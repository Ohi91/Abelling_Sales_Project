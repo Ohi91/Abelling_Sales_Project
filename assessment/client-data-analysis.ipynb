{
 "cells": [
  {
   "cell_type": "markdown",
   "execution_count": null,
   "metadata": {},
   "source": [
    "# Potential Client Data Analysis\n",
    "Abelling sales team is trying to analyse their potential sales clients. They have a list of companies(targets) that could be a possible client for their data labeling services. Someone scraped a list of companies from crunchbase using filters of specific tags in the target's \"categories\" (business/solution domains where the target company operates. Like, autonomous vehicles, artificial intelligence, computer vision etc) and \"location\" (target company's registered hq location) fields. They want to make something out of this data. Now I am trying to help them out.\n"
   ]
  },
  {
   "cell_type": "markdown",
   "execution_count": null,
   "metadata": {},
   "source": [
    "## Importing Packages"
   ]
  },
  {
   "cell_type": "code",
   "execution_count": 1,
   "metadata": {
    "_cell_guid": "b1076dfc-b9ad-4769-8c92-a6c4dae69d19",
    "_uuid": "8f2839f25d086af736a60e9eeb907d3b93b6e0e5"
   },
   "outputs": [],
   "source": [
    "#importing required packages\n",
    "import numpy as np\n",
    "import pandas as pd \n",
    "import re\n",
    "import statistics\n",
    "import matplotlib.pyplot as plt"
   ]
  },
  {
   "cell_type": "markdown",
   "execution_count": null,
   "metadata": {},
   "source": [
    "## Importing Dataset"
   ]
  },
  {
   "cell_type": "code",
   "execution_count": 2,
   "metadata": {
    "_cell_guid": "79c7e3d0-c299-4dcb-8224-4455121ee9b0",
    "_uuid": "d629ff2d2480ee46fbb7e2d37f6b5fab8052498a"
   },
   "outputs": [
    {
     "data": {
      "text/html": [
       "<div>\n",
       "<style scoped>\n",
       "    .dataframe tbody tr th:only-of-type {\n",
       "        vertical-align: middle;\n",
       "    }\n",
       "\n",
       "    .dataframe tbody tr th {\n",
       "        vertical-align: top;\n",
       "    }\n",
       "\n",
       "    .dataframe thead th {\n",
       "        text-align: right;\n",
       "    }\n",
       "</style>\n",
       "<table border=\"1\" class=\"dataframe\">\n",
       "  <thead>\n",
       "    <tr style=\"text-align: right;\">\n",
       "      <th></th>\n",
       "      <th>Name</th>\n",
       "      <th>Categories</th>\n",
       "      <th>HQ location</th>\n",
       "      <th>Short Desc</th>\n",
       "      <th>CB Rank</th>\n",
       "      <th>Website</th>\n",
       "      <th>Twitter</th>\n",
       "      <th>Linkedin</th>\n",
       "      <th>Email</th>\n",
       "      <th>Phone</th>\n",
       "      <th>Operational Status</th>\n",
       "      <th>Founded</th>\n",
       "      <th>HQ region</th>\n",
       "      <th>Estimated Revenue</th>\n",
       "      <th>Type</th>\n",
       "      <th>Facebook</th>\n",
       "      <th>Full Desc</th>\n",
       "      <th>Acquired By</th>\n",
       "      <th>Total Funding</th>\n",
       "    </tr>\n",
       "  </thead>\n",
       "  <tbody>\n",
       "    <tr>\n",
       "      <th>0</th>\n",
       "      <td>CrowdStrike</td>\n",
       "      <td>Cyber Security, Machine Learning, Network Secu...</td>\n",
       "      <td>Sunnyvale, California, United States</td>\n",
       "      <td>CrowdStrike is a cybersecurity technology firm...</td>\n",
       "      <td>11</td>\n",
       "      <td>http://www.crowdstrike.com</td>\n",
       "      <td>http://twitter.com/CrowdStrike</td>\n",
       "      <td>https://www.linkedin.com/company/crowdstrike/</td>\n",
       "      <td>info@crowdstrike.com</td>\n",
       "      <td>1.888.512.8906</td>\n",
       "      <td>Active</td>\n",
       "      <td>2011</td>\n",
       "      <td>San Francisco Bay Area, Silicon Valley, West C...</td>\n",
       "      <td>$50M to $100M</td>\n",
       "      <td>For Profit</td>\n",
       "      <td>View on Facebook</td>\n",
       "      <td>CrowdStrike is a cybersecurity technology firm...</td>\n",
       "      <td>—</td>\n",
       "      <td>$481,000,000</td>\n",
       "    </tr>\n",
       "    <tr>\n",
       "      <th>1</th>\n",
       "      <td>Quora</td>\n",
       "      <td>Information Services, Internet, Machine Learni...</td>\n",
       "      <td>Mountain View, California, United States</td>\n",
       "      <td>Quora is a Q&amp;A platform with a mission to shar...</td>\n",
       "      <td>73</td>\n",
       "      <td>http://quora.com</td>\n",
       "      <td>http://twitter.com/Quora</td>\n",
       "      <td>http://www.linkedin.com/company/quora</td>\n",
       "      <td>—</td>\n",
       "      <td>—</td>\n",
       "      <td>Active</td>\n",
       "      <td>Jun 1, 2009</td>\n",
       "      <td>San Francisco Bay Area, Silicon Valley, West C...</td>\n",
       "      <td>$10M to $50M</td>\n",
       "      <td>For Profit</td>\n",
       "      <td>View on Facebook</td>\n",
       "      <td>Quora is a question-and-answer website created...</td>\n",
       "      <td>—</td>\n",
       "      <td>$226,000,000</td>\n",
       "    </tr>\n",
       "    <tr>\n",
       "      <th>2</th>\n",
       "      <td>Google</td>\n",
       "      <td>Ad Network, Artificial Intelligence, Blogging ...</td>\n",
       "      <td>Mountain View, California, United States</td>\n",
       "      <td>Google is a multinational corporation that is ...</td>\n",
       "      <td>125</td>\n",
       "      <td>http://www.google.com/</td>\n",
       "      <td>https://twitter.com/google</td>\n",
       "      <td>http://www.linkedin.com/company/google</td>\n",
       "      <td>google@google.com</td>\n",
       "      <td>—</td>\n",
       "      <td>Active</td>\n",
       "      <td>Sep 4, 1998</td>\n",
       "      <td>San Francisco Bay Area, Silicon Valley, West C...</td>\n",
       "      <td>$10B+</td>\n",
       "      <td>For Profit</td>\n",
       "      <td>View on Facebook</td>\n",
       "      <td>Google is a multinational corporation that is ...</td>\n",
       "      <td>—</td>\n",
       "      <td>$36,100,000</td>\n",
       "    </tr>\n",
       "    <tr>\n",
       "      <th>3</th>\n",
       "      <td>uBiome</td>\n",
       "      <td>Health Care, Machine Learning, Quantified Self</td>\n",
       "      <td>San Francisco, California, United States</td>\n",
       "      <td>uBiome is a citizen science startup that seque...</td>\n",
       "      <td>148</td>\n",
       "      <td>http://ubiome.com</td>\n",
       "      <td>http://twitter.com/uBiome</td>\n",
       "      <td>http://www.linkedin.com/company/ubiome</td>\n",
       "      <td>info@ubiome.com</td>\n",
       "      <td>(415)275-2461</td>\n",
       "      <td>Active</td>\n",
       "      <td>Nov 1, 2012</td>\n",
       "      <td>San Francisco Bay Area, West Coast, Western US</td>\n",
       "      <td>—</td>\n",
       "      <td>For Profit</td>\n",
       "      <td>View on Facebook</td>\n",
       "      <td>uBiome is a citizen science startup that seque...</td>\n",
       "      <td>—</td>\n",
       "      <td>$109,851,193</td>\n",
       "    </tr>\n",
       "    <tr>\n",
       "      <th>4</th>\n",
       "      <td>Cloudera</td>\n",
       "      <td>Analytics, Big Data, Cloud Computing, Cloud Da...</td>\n",
       "      <td>Palo Alto, California, United States</td>\n",
       "      <td>Cloudera delivers an Enterprise Data Cloud for...</td>\n",
       "      <td>188</td>\n",
       "      <td>http://www.cloudera.com</td>\n",
       "      <td>http://twitter.com/cloudera</td>\n",
       "      <td>http://www.linkedin.com/company/cloudera</td>\n",
       "      <td>info@cloudera.com</td>\n",
       "      <td>8887891488</td>\n",
       "      <td>Active</td>\n",
       "      <td>Oct 13, 2008</td>\n",
       "      <td>San Francisco Bay Area, Silicon Valley, West C...</td>\n",
       "      <td>—</td>\n",
       "      <td>For Profit</td>\n",
       "      <td>View on Facebook</td>\n",
       "      <td>Cloudera delivers an Enterprise Data Cloud for...</td>\n",
       "      <td>—</td>\n",
       "      <td>$1,041,000,000</td>\n",
       "    </tr>\n",
       "    <tr>\n",
       "      <th>5</th>\n",
       "      <td>Tara AI</td>\n",
       "      <td>Artificial Intelligence, Developer Tools, Ente...</td>\n",
       "      <td>San Jose, California, United States</td>\n",
       "      <td>Tara AI is the Smart Scoping Platform, leverag...</td>\n",
       "      <td>248</td>\n",
       "      <td>https://tara.ai/</td>\n",
       "      <td>https://twitter.com/taradotai</td>\n",
       "      <td>https://www.linkedin.com/company/13208908/</td>\n",
       "      <td>hello@tara.ai</td>\n",
       "      <td>(888) 843-9855</td>\n",
       "      <td>Active</td>\n",
       "      <td>2016</td>\n",
       "      <td>San Francisco Bay Area, Silicon Valley, West C...</td>\n",
       "      <td>—</td>\n",
       "      <td>For Profit</td>\n",
       "      <td>View on Facebook</td>\n",
       "      <td>Tara AI is the Smart Scoping Platform. Our pla...</td>\n",
       "      <td>—</td>\n",
       "      <td>$13,000,000</td>\n",
       "    </tr>\n",
       "    <tr>\n",
       "      <th>6</th>\n",
       "      <td>Text IQ</td>\n",
       "      <td>Artificial Intelligence, Compliance, Enterpris...</td>\n",
       "      <td>San Francisco, California, United States</td>\n",
       "      <td>Text IQ uses groundbreaking AI technology to p...</td>\n",
       "      <td>294</td>\n",
       "      <td>http://www.textiq.com</td>\n",
       "      <td>https://twitter.com/textiq</td>\n",
       "      <td>https://www.linkedin.com/company/textiq</td>\n",
       "      <td>—</td>\n",
       "      <td>(415)275-2265</td>\n",
       "      <td>Active</td>\n",
       "      <td>2014</td>\n",
       "      <td>San Francisco Bay Area, West Coast, Western US</td>\n",
       "      <td>—</td>\n",
       "      <td>For Profit</td>\n",
       "      <td>View on Facebook</td>\n",
       "      <td>Text IQ uses AI technology to prevent high-sta...</td>\n",
       "      <td>—</td>\n",
       "      <td>$15,600,000</td>\n",
       "    </tr>\n",
       "    <tr>\n",
       "      <th>7</th>\n",
       "      <td>HOVER</td>\n",
       "      <td>3D Technology, Computer Vision, Enterprise Sof...</td>\n",
       "      <td>San Francisco, California, United States</td>\n",
       "      <td>HOVER is a 3D technology company that creates ...</td>\n",
       "      <td>325</td>\n",
       "      <td>http://www.hover.to</td>\n",
       "      <td>https://twitter.com/HOVER3D</td>\n",
       "      <td>http://www.linkedin.com/company/hover-inc-</td>\n",
       "      <td>info@hover.to</td>\n",
       "      <td>+1 844-754-6837</td>\n",
       "      <td>Active</td>\n",
       "      <td>Mar 2011</td>\n",
       "      <td>San Francisco Bay Area, West Coast, Western US</td>\n",
       "      <td>—</td>\n",
       "      <td>For Profit</td>\n",
       "      <td>View on Facebook</td>\n",
       "      <td>HOVER, the company on a mission to create a si...</td>\n",
       "      <td>—</td>\n",
       "      <td>$67,300,000</td>\n",
       "    </tr>\n",
       "    <tr>\n",
       "      <th>8</th>\n",
       "      <td>Wish</td>\n",
       "      <td>Computer, Content Discovery, E-Commerce, Machi...</td>\n",
       "      <td>San Francisco, California, United States</td>\n",
       "      <td>Wish is shopping app, putting a digital shoppi...</td>\n",
       "      <td>427</td>\n",
       "      <td>http://wish.com</td>\n",
       "      <td>https://twitter.com/WishShopping</td>\n",
       "      <td>http://www.linkedin.com/company/contextlogic</td>\n",
       "      <td>info@wish.com</td>\n",
       "      <td>(888)-254-9617</td>\n",
       "      <td>Active</td>\n",
       "      <td>2010</td>\n",
       "      <td>San Francisco Bay Area, West Coast, Western US</td>\n",
       "      <td>—</td>\n",
       "      <td>For Profit</td>\n",
       "      <td>View on Facebook</td>\n",
       "      <td>Founded in 2010 and headquartered in San Franc...</td>\n",
       "      <td>—</td>\n",
       "      <td>$1,328,700,000</td>\n",
       "    </tr>\n",
       "    <tr>\n",
       "      <th>9</th>\n",
       "      <td>Innovaccer Inc.</td>\n",
       "      <td>Analytics, Big Data, Health Care, Machine Lear...</td>\n",
       "      <td>San Francisco, California, United States</td>\n",
       "      <td>Innovaccer is a leading healthcare data activa...</td>\n",
       "      <td>469</td>\n",
       "      <td>https://www.innovaccer.com</td>\n",
       "      <td>https://twitter.com/innovaccer</td>\n",
       "      <td>https://www.linkedin.com/company/innovaccer</td>\n",
       "      <td>info@innovaccer.com</td>\n",
       "      <td>+1 650 479 4891</td>\n",
       "      <td>Active</td>\n",
       "      <td>Aug 1, 2014</td>\n",
       "      <td>San Francisco Bay Area, West Coast, Western US</td>\n",
       "      <td>$1M to $10M</td>\n",
       "      <td>For Profit</td>\n",
       "      <td>View on Facebook</td>\n",
       "      <td>Innovaccer's aim is to make full use of all th...</td>\n",
       "      <td>—</td>\n",
       "      <td>$54,100,000</td>\n",
       "    </tr>\n",
       "  </tbody>\n",
       "</table>\n",
       "</div>"
      ],
      "text/plain": [
       "              Name                                         Categories  \\\n",
       "0      CrowdStrike  Cyber Security, Machine Learning, Network Secu...   \n",
       "1            Quora  Information Services, Internet, Machine Learni...   \n",
       "2           Google  Ad Network, Artificial Intelligence, Blogging ...   \n",
       "3           uBiome     Health Care, Machine Learning, Quantified Self   \n",
       "4         Cloudera  Analytics, Big Data, Cloud Computing, Cloud Da...   \n",
       "5          Tara AI  Artificial Intelligence, Developer Tools, Ente...   \n",
       "6          Text IQ  Artificial Intelligence, Compliance, Enterpris...   \n",
       "7            HOVER  3D Technology, Computer Vision, Enterprise Sof...   \n",
       "8             Wish  Computer, Content Discovery, E-Commerce, Machi...   \n",
       "9  Innovaccer Inc.  Analytics, Big Data, Health Care, Machine Lear...   \n",
       "\n",
       "                                HQ location  \\\n",
       "0      Sunnyvale, California, United States   \n",
       "1  Mountain View, California, United States   \n",
       "2  Mountain View, California, United States   \n",
       "3  San Francisco, California, United States   \n",
       "4      Palo Alto, California, United States   \n",
       "5       San Jose, California, United States   \n",
       "6  San Francisco, California, United States   \n",
       "7  San Francisco, California, United States   \n",
       "8  San Francisco, California, United States   \n",
       "9  San Francisco, California, United States   \n",
       "\n",
       "                                          Short Desc CB Rank  \\\n",
       "0  CrowdStrike is a cybersecurity technology firm...      11   \n",
       "1  Quora is a Q&A platform with a mission to shar...      73   \n",
       "2  Google is a multinational corporation that is ...     125   \n",
       "3  uBiome is a citizen science startup that seque...     148   \n",
       "4  Cloudera delivers an Enterprise Data Cloud for...     188   \n",
       "5  Tara AI is the Smart Scoping Platform, leverag...     248   \n",
       "6  Text IQ uses groundbreaking AI technology to p...     294   \n",
       "7  HOVER is a 3D technology company that creates ...     325   \n",
       "8  Wish is shopping app, putting a digital shoppi...     427   \n",
       "9  Innovaccer is a leading healthcare data activa...     469   \n",
       "\n",
       "                      Website                           Twitter  \\\n",
       "0  http://www.crowdstrike.com    http://twitter.com/CrowdStrike   \n",
       "1            http://quora.com          http://twitter.com/Quora   \n",
       "2      http://www.google.com/        https://twitter.com/google   \n",
       "3           http://ubiome.com         http://twitter.com/uBiome   \n",
       "4     http://www.cloudera.com       http://twitter.com/cloudera   \n",
       "5            https://tara.ai/     https://twitter.com/taradotai   \n",
       "6       http://www.textiq.com        https://twitter.com/textiq   \n",
       "7         http://www.hover.to       https://twitter.com/HOVER3D   \n",
       "8             http://wish.com  https://twitter.com/WishShopping   \n",
       "9  https://www.innovaccer.com    https://twitter.com/innovaccer   \n",
       "\n",
       "                                        Linkedin                 Email  \\\n",
       "0  https://www.linkedin.com/company/crowdstrike/  info@crowdstrike.com   \n",
       "1          http://www.linkedin.com/company/quora                     —   \n",
       "2         http://www.linkedin.com/company/google     google@google.com   \n",
       "3         http://www.linkedin.com/company/ubiome       info@ubiome.com   \n",
       "4       http://www.linkedin.com/company/cloudera     info@cloudera.com   \n",
       "5     https://www.linkedin.com/company/13208908/         hello@tara.ai   \n",
       "6        https://www.linkedin.com/company/textiq                     —   \n",
       "7     http://www.linkedin.com/company/hover-inc-         info@hover.to   \n",
       "8   http://www.linkedin.com/company/contextlogic         info@wish.com   \n",
       "9    https://www.linkedin.com/company/innovaccer   info@innovaccer.com   \n",
       "\n",
       "             Phone Operational Status       Founded  \\\n",
       "0   1.888.512.8906             Active          2011   \n",
       "1                —             Active   Jun 1, 2009   \n",
       "2                —             Active   Sep 4, 1998   \n",
       "3    (415)275-2461             Active   Nov 1, 2012   \n",
       "4       8887891488             Active  Oct 13, 2008   \n",
       "5   (888) 843-9855             Active          2016   \n",
       "6    (415)275-2265             Active          2014   \n",
       "7  +1 844-754-6837             Active      Mar 2011   \n",
       "8   (888)-254-9617             Active          2010   \n",
       "9  +1 650 479 4891             Active   Aug 1, 2014   \n",
       "\n",
       "                                           HQ region Estimated Revenue  \\\n",
       "0  San Francisco Bay Area, Silicon Valley, West C...     $50M to $100M   \n",
       "1  San Francisco Bay Area, Silicon Valley, West C...      $10M to $50M   \n",
       "2  San Francisco Bay Area, Silicon Valley, West C...             $10B+   \n",
       "3     San Francisco Bay Area, West Coast, Western US                 —   \n",
       "4  San Francisco Bay Area, Silicon Valley, West C...                 —   \n",
       "5  San Francisco Bay Area, Silicon Valley, West C...                 —   \n",
       "6     San Francisco Bay Area, West Coast, Western US                 —   \n",
       "7     San Francisco Bay Area, West Coast, Western US                 —   \n",
       "8     San Francisco Bay Area, West Coast, Western US                 —   \n",
       "9     San Francisco Bay Area, West Coast, Western US       $1M to $10M   \n",
       "\n",
       "         Type          Facebook  \\\n",
       "0  For Profit  View on Facebook   \n",
       "1  For Profit  View on Facebook   \n",
       "2  For Profit  View on Facebook   \n",
       "3  For Profit  View on Facebook   \n",
       "4  For Profit  View on Facebook   \n",
       "5  For Profit  View on Facebook   \n",
       "6  For Profit  View on Facebook   \n",
       "7  For Profit  View on Facebook   \n",
       "8  For Profit  View on Facebook   \n",
       "9  For Profit  View on Facebook   \n",
       "\n",
       "                                           Full Desc Acquired By  \\\n",
       "0  CrowdStrike is a cybersecurity technology firm...           —   \n",
       "1  Quora is a question-and-answer website created...           —   \n",
       "2  Google is a multinational corporation that is ...           —   \n",
       "3  uBiome is a citizen science startup that seque...           —   \n",
       "4  Cloudera delivers an Enterprise Data Cloud for...           —   \n",
       "5  Tara AI is the Smart Scoping Platform. Our pla...           —   \n",
       "6  Text IQ uses AI technology to prevent high-sta...           —   \n",
       "7  HOVER, the company on a mission to create a si...           —   \n",
       "8  Founded in 2010 and headquartered in San Franc...           —   \n",
       "9  Innovaccer's aim is to make full use of all th...           —   \n",
       "\n",
       "    Total Funding  \n",
       "0    $481,000,000  \n",
       "1    $226,000,000  \n",
       "2     $36,100,000  \n",
       "3    $109,851,193  \n",
       "4  $1,041,000,000  \n",
       "5     $13,000,000  \n",
       "6     $15,600,000  \n",
       "7     $67,300,000  \n",
       "8  $1,328,700,000  \n",
       "9     $54,100,000  "
      ]
     },
     "execution_count": 2,
     "metadata": {},
     "output_type": "execute_result"
    }
   ],
   "source": [
    "df_data = pd.read_csv('../input/abelling/bay_ml.csv')\n",
    "df_data.head(10)"
   ]
  },
  {
   "cell_type": "markdown",
   "execution_count": null,
   "metadata": {},
   "source": [
    "## Exploring Data"
   ]
  },
  {
   "cell_type": "markdown",
   "execution_count": null,
   "metadata": {},
   "source": [
    "First, let's check out the attributes of the dataset."
   ]
  },
  {
   "cell_type": "code",
   "execution_count": 3,
   "metadata": {},
   "outputs": [
    {
     "name": "stdout",
     "output_type": "stream",
     "text": [
      "<class 'pandas.core.frame.DataFrame'>\n",
      "RangeIndex: 1000 entries, 0 to 999\n",
      "Data columns (total 19 columns):\n",
      " #   Column              Non-Null Count  Dtype \n",
      "---  ------              --------------  ----- \n",
      " 0   Name                1000 non-null   object\n",
      " 1   Categories          1000 non-null   object\n",
      " 2   HQ location         1000 non-null   object\n",
      " 3   Short Desc          1000 non-null   object\n",
      " 4   CB Rank             1000 non-null   object\n",
      " 5   Website             993 non-null    object\n",
      " 6   Twitter             792 non-null    object\n",
      " 7   Linkedin            853 non-null    object\n",
      " 8   Email               1000 non-null   object\n",
      " 9   Phone               1000 non-null   object\n",
      " 10  Operational Status  1000 non-null   object\n",
      " 11  Founded             1000 non-null   object\n",
      " 12  HQ region           1000 non-null   object\n",
      " 13  Estimated Revenue   1000 non-null   object\n",
      " 14  Type                1000 non-null   object\n",
      " 15  Facebook            666 non-null    object\n",
      " 16  Full Desc           1000 non-null   object\n",
      " 17  Acquired By         1000 non-null   object\n",
      " 18  Total Funding       1000 non-null   object\n",
      "dtypes: object(19)\n",
      "memory usage: 148.6+ KB\n"
     ]
    }
   ],
   "source": [
    "df_data.info()"
   ]
  },
  {
   "cell_type": "markdown",
   "execution_count": null,
   "metadata": {},
   "source": [
    "Here, we see, there are 19 attributes and 1000 entries in the dataset. Now, we will analyse the attributes one by one."
   ]
  },
  {
   "cell_type": "markdown",
   "execution_count": null,
   "metadata": {},
   "source": [
    "### Attribute 0: Name "
   ]
  },
  {
   "cell_type": "code",
   "execution_count": 4,
   "metadata": {},
   "outputs": [
    {
     "data": {
      "text/plain": [
       "Bigfoot Biomedical     4\n",
       "uBiome                 2\n",
       "Aktana                 2\n",
       "Jumpstart              2\n",
       "ROYBI                  2\n",
       "                      ..\n",
       "Laserlike              1\n",
       "KangarooHealth Inc.    1\n",
       "Clever Sense           1\n",
       "Vitagene               1\n",
       "Wit.ai                 1\n",
       "Name: Name, Length: 899, dtype: int64"
      ]
     },
     "execution_count": 4,
     "metadata": {},
     "output_type": "execute_result"
    }
   ],
   "source": [
    "df_data['Name'].value_counts()"
   ]
  },
  {
   "cell_type": "markdown",
   "execution_count": null,
   "metadata": {},
   "source": [
    "Here, we can see there are some duplicate entries for same company names. So, we can drop duplicate entries keeping only the single entry having the highest CB rank. "
   ]
  },
  {
   "cell_type": "code",
   "execution_count": 5,
   "metadata": {},
   "outputs": [
    {
     "data": {
      "text/plain": [
       "uBiome           1\n",
       "Zymergen         1\n",
       "Percept.AI       1\n",
       "Airlitix         1\n",
       "Bevov, Inc       1\n",
       "                ..\n",
       "Elastica         1\n",
       "idevelop.city    1\n",
       "Aluna            1\n",
       "Prism Skylabs    1\n",
       "CloudMinds       1\n",
       "Name: Name, Length: 899, dtype: int64"
      ]
     },
     "execution_count": 5,
     "metadata": {},
     "output_type": "execute_result"
    }
   ],
   "source": [
    "df_data = df_data.drop_duplicates(subset = 'Name', keep = 'first') #here, we are dropping duplicate entries\n",
    "df_data.to_csv('temp.csv', index = False)\n",
    "df_data = pd.read_csv('temp.csv')\n",
    "df_data['Name'].value_counts()"
   ]
  },
  {
   "cell_type": "markdown",
   "execution_count": null,
   "metadata": {},
   "source": [
    "Now we can see, there left only 899 entries with unique company names out of 1000 given entries."
   ]
  },
  {
   "cell_type": "markdown",
   "execution_count": null,
   "metadata": {},
   "source": [
    "### Attribute 1: Categories\n",
    "In this attribute, we can find several categories of the companies."
   ]
  },
  {
   "cell_type": "code",
   "execution_count": 6,
   "metadata": {},
   "outputs": [
    {
     "data": {
      "text/html": [
       "<div>\n",
       "<style scoped>\n",
       "    .dataframe tbody tr th:only-of-type {\n",
       "        vertical-align: middle;\n",
       "    }\n",
       "\n",
       "    .dataframe tbody tr th {\n",
       "        vertical-align: top;\n",
       "    }\n",
       "\n",
       "    .dataframe thead th {\n",
       "        text-align: right;\n",
       "    }\n",
       "</style>\n",
       "<table border=\"1\" class=\"dataframe\">\n",
       "  <thead>\n",
       "    <tr style=\"text-align: right;\">\n",
       "      <th></th>\n",
       "      <th>Name</th>\n",
       "      <th>Categories</th>\n",
       "    </tr>\n",
       "  </thead>\n",
       "  <tbody>\n",
       "    <tr>\n",
       "      <th>0</th>\n",
       "      <td>CrowdStrike</td>\n",
       "      <td>Cyber Security, Machine Learning, Network Secu...</td>\n",
       "    </tr>\n",
       "    <tr>\n",
       "      <th>1</th>\n",
       "      <td>Quora</td>\n",
       "      <td>Information Services, Internet, Machine Learni...</td>\n",
       "    </tr>\n",
       "    <tr>\n",
       "      <th>2</th>\n",
       "      <td>Google</td>\n",
       "      <td>Ad Network, Artificial Intelligence, Blogging ...</td>\n",
       "    </tr>\n",
       "    <tr>\n",
       "      <th>3</th>\n",
       "      <td>uBiome</td>\n",
       "      <td>Health Care, Machine Learning, Quantified Self</td>\n",
       "    </tr>\n",
       "    <tr>\n",
       "      <th>4</th>\n",
       "      <td>Cloudera</td>\n",
       "      <td>Analytics, Big Data, Cloud Computing, Cloud Da...</td>\n",
       "    </tr>\n",
       "  </tbody>\n",
       "</table>\n",
       "</div>"
      ],
      "text/plain": [
       "          Name                                         Categories\n",
       "0  CrowdStrike  Cyber Security, Machine Learning, Network Secu...\n",
       "1        Quora  Information Services, Internet, Machine Learni...\n",
       "2       Google  Ad Network, Artificial Intelligence, Blogging ...\n",
       "3       uBiome     Health Care, Machine Learning, Quantified Self\n",
       "4     Cloudera  Analytics, Big Data, Cloud Computing, Cloud Da..."
      ]
     },
     "execution_count": 6,
     "metadata": {},
     "output_type": "execute_result"
    }
   ],
   "source": [
    "df_data[['Name','Categories']].head(5)"
   ]
  },
  {
   "cell_type": "code",
   "execution_count": 7,
   "metadata": {},
   "outputs": [
    {
     "data": {
      "text/plain": [
       "Artificial Intelligence, Machine Learning, Software                                                                                                   12\n",
       "Artificial Intelligence, Information Technology, Machine Learning                                                                                      7\n",
       "Artificial Intelligence, Machine Learning                                                                                                              7\n",
       "Artificial Intelligence, Machine Learning, Natural Language Processing                                                                                 6\n",
       "Artificial Intelligence, Big Data, Machine Learning, Software                                                                                          4\n",
       "                                                                                                                                                      ..\n",
       "Apps, Artificial Intelligence, Developer APIs, Enterprise Software, Facial Recognition, Image Recognition, Machine Learning, Text Analytics, Video     1\n",
       "Analytics, Artificial Intelligence, Big Data, Business Intelligence, Collaboration, Enterprise Software, Machine Learning, SaaS                        1\n",
       "Artificial Intelligence, Big Data, E-Commerce, Machine Learning, Retail Technology, Semantic Web                                                       1\n",
       "Artificial Intelligence, Computer Vision, Machine Learning, Robotics, Sensor, Software                                                                 1\n",
       "Apps, Artificial Intelligence, Developer Tools, Machine Learning, Mobile                                                                               1\n",
       "Name: Categories, Length: 846, dtype: int64"
      ]
     },
     "execution_count": 7,
     "metadata": {},
     "output_type": "execute_result"
    }
   ],
   "source": [
    "df_data['Categories'].value_counts()"
   ]
  },
  {
   "cell_type": "markdown",
   "execution_count": null,
   "metadata": {},
   "source": [
    "Here, we see that each entry can have different combination of categories. Now we will extract individuals unique categories and count their occurence. "
   ]
  },
  {
   "cell_type": "code",
   "execution_count": 8,
   "metadata": {},
   "outputs": [],
   "source": [
    "categories_set = set({})\n",
    "categories_count = {}\n",
    "for combination in df_data['Categories']:\n",
    "    ls = combination.split(',')\n",
    "    for individual in ls:\n",
    "        if individual[0] == ' ':\n",
    "            individual = individual[1:]\n",
    "        categories_set.add(individual)\n",
    "        if individual in categories_count:\n",
    "            categories_count[individual] += 1\n",
    "        else:\n",
    "            categories_count[individual] = 1    \n",
    "#now sorting the dictionary with respect to occurence count            \n",
    "categories_count = sorted(categories_count.items(), key=lambda x: x[1], reverse = True)            "
   ]
  },
  {
   "cell_type": "code",
   "execution_count": 9,
   "metadata": {},
   "outputs": [
    {
     "name": "stdout",
     "output_type": "stream",
     "text": [
      "Machine Learning 899\n",
      "Artificial Intelligence 549\n",
      "Software 210\n",
      "Big Data 192\n",
      "Analytics 147\n",
      "SaaS 134\n",
      "Enterprise Software 118\n",
      "Information Technology 117\n",
      "Predictive Analytics 94\n",
      "Computer Vision 79\n",
      "Natural Language Processing 76\n",
      "Health Care 67\n",
      "Mobile 60\n",
      "Internet of Things 57\n",
      "Internet 48\n",
      "Robotics 46\n",
      "E-Commerce 35\n",
      "FinTech 35\n",
      "Cloud Computing 33\n",
      "Business Intelligence 31\n",
      "B2B 30\n",
      "Mobile Apps 29\n",
      "Augmented Reality 27\n",
      "Security 26\n",
      "Apps 26\n",
      "Advertising 26\n",
      "Automotive 23\n",
      "Virtual Reality 23\n",
      "Blockchain 23\n",
      "CRM 22\n",
      "Autonomous Vehicles 22\n",
      "Computer 21\n",
      "Marketing Automation 21\n",
      "Personalization 21\n",
      "Education 21\n",
      "Customer Service 21\n",
      "Human Resources 21\n",
      "Financial Services 20\n",
      "Biotechnology 20\n",
      "Retail Technology 19\n",
      "Data Visualization 19\n",
      "Video 19\n",
      "Cloud Data Services 18\n",
      "Intelligent Systems 18\n",
      "Sales Automation 18\n",
      "Developer APIs 18\n",
      "Cyber Security 17\n",
      "Marketing 17\n",
      "Messaging 17\n",
      "Recruiting 17\n",
      "Developer Tools 16\n",
      "3D Technology 16\n",
      "Manufacturing 16\n",
      "Sales 15\n",
      "Consulting 14\n",
      "Social Media 13\n",
      "Search Engine 13\n",
      "Software Engineering 13\n",
      "Digital Marketing 13\n",
      "Hardware 13\n",
      "Image Recognition 13\n",
      "Data Mining 12\n",
      "Medical 12\n",
      "Virtual Assistant 12\n",
      "Wellness 12\n",
      "Supply Chain Management 12\n",
      "Knowledge Management 12\n",
      "Developer Platform 12\n",
      "iOS 12\n",
      "Risk Management 12\n",
      "Data Integration 12\n",
      "Text Analytics 12\n",
      "Consumer Electronics 10\n",
      "Semantic Search 10\n",
      "Retail 10\n",
      "Insurance 10\n",
      "Real Time 10\n",
      "Legal 10\n",
      "Information Services 9\n",
      "Productivity Tools 9\n",
      "Logistics 9\n",
      "Agriculture 9\n",
      "Geospatial 9\n",
      "Advertising Platforms 9\n",
      "Fashion 9\n",
      "Digital Media 9\n",
      "Infrastructure 9\n",
      "Network Security 8\n",
      "Life Science 8\n",
      "Fitness 8\n",
      "Personal Health 8\n",
      "Enterprise Applications 8\n",
      "Android 8\n",
      "AgTech 8\n",
      "Mobile Advertising 8\n",
      "InsurTech 8\n",
      "Travel 8\n",
      "Marketplace 8\n",
      "Speech Recognition 8\n",
      "Banking 8\n",
      "Product Design 7\n",
      "Collaboration 7\n",
      "E-Commerce Platforms 7\n",
      "Medical Device 7\n",
      "Database 7\n",
      "Wearables 7\n",
      "Consumer 7\n",
      "Training 7\n",
      "Smart Home 7\n",
      "Media and Entertainment 7\n",
      "News 7\n",
      "Sensor 7\n",
      "Finance 7\n",
      "Cloud Management 6\n",
      "Content Discovery 6\n",
      "Identity Management 6\n",
      "Transportation 6\n",
      "EdTech 6\n",
      "Health Diagnostics 6\n",
      "mHealth 6\n",
      "Communications Infrastructure 6\n",
      "GPU 6\n",
      "Enterprise 6\n",
      "Real Estate 6\n",
      "Energy 6\n",
      "Construction 6\n",
      "Career Planning 6\n",
      "Sports 6\n",
      "Web Development 6\n",
      "Video Streaming 5\n",
      "Cloud Infrastructure 5\n",
      "Open Source 5\n",
      "Compliance 5\n",
      "Email Marketing 5\n",
      "Fraud Detection 5\n",
      "IT Management 5\n",
      "PaaS 5\n",
      "Drones 5\n",
      "Video Advertising 5\n",
      "GovTech 5\n",
      "Food and Beverage 5\n",
      "Photography 5\n",
      "Industrial Automation 5\n",
      "Market Research 5\n",
      "Data Center Automation 5\n",
      "Cryptocurrency 5\n",
      "Gamification 5\n",
      "Telecommunications 5\n",
      "Consumer Software 5\n",
      "Employment 5\n",
      "Electronics 5\n",
      "Email 4\n",
      "Language Learning 4\n",
      "Simulation 4\n",
      "Mobile Payments 4\n",
      "Pharmaceutical 4\n",
      "Genetics 4\n",
      "Content 4\n",
      "Photo Editing 4\n",
      "Photo Sharing 4\n",
      "Visual Search 4\n",
      "Energy Management 4\n",
      "Mapping Services 4\n",
      "Neuroscience 4\n",
      "Cloud Security 4\n",
      "Water 4\n",
      "Smart Building 4\n",
      "Lifestyle 4\n",
      "Social Network 4\n",
      "Video Games 4\n",
      "Legal Tech 4\n",
      "Social Media Marketing 4\n",
      "Personal Finance 4\n",
      "Q&A 3\n",
      "Ad Network 3\n",
      "SMS 3\n",
      "Professional Networking 3\n",
      "Bioinformatics 3\n",
      "Virtualization 3\n",
      "Clean Energy 3\n",
      "Publishing 3\n",
      "Service Industry 3\n",
      "Facial Recognition 3\n",
      "Health Insurance 3\n",
      "B2C 3\n",
      "Social Media Advertising 3\n",
      "Navigation 3\n",
      "Document Management 3\n",
      "Semantic Web 3\n",
      "Crowdsourcing 3\n",
      "Semiconductor 3\n",
      "Bitcoin 3\n",
      "Ethereum 3\n",
      "Privacy 3\n",
      "Shopping 3\n",
      "Gaming 3\n",
      "Communities 3\n",
      "Public Safety 3\n",
      "Location Based Services 3\n",
      "Events 3\n",
      "Farming 3\n",
      "Content Marketing 3\n",
      "Music 3\n",
      "Wealth Management 3\n",
      "Test and Measurement 3\n",
      "E-Learning 3\n",
      "Commercial Real Estate 3\n",
      "Embedded Systems 3\n",
      "CleanTech 3\n",
      "Web Design 3\n",
      "Enterprise Resource Planning (ERP) 3\n",
      "Venture Capital 3\n",
      "Blogging Platforms 2\n",
      "App Marketing 2\n",
      "Business Development 2\n",
      "Advanced Materials 2\n",
      "Natural Resources 2\n",
      "Technical Support 2\n",
      "Hedge Funds 2\n",
      "Audio 2\n",
      "Art 2\n",
      "Corporate Training 2\n",
      "Video Chat 2\n",
      "Video Conferencing 2\n",
      "Ad Retargeting 2\n",
      "Energy Storage 2\n",
      "Task Management 2\n",
      "Clinical Trials 2\n",
      "Human Computer Interaction 2\n",
      "Indoor Positioning 2\n",
      "Application Performance Management 2\n",
      "Professional Services 2\n",
      "Data Storage 2\n",
      "Sharing Economy 2\n",
      "Rental Property 2\n",
      "SEO 2\n",
      "Mechanical Engineering 2\n",
      "Brand Marketing 2\n",
      "Smart Cities 2\n",
      "Wireless 2\n",
      "Employee Benefits 2\n",
      "GreenTech 2\n",
      "Intellectual Property 2\n",
      "Quality Assurance 2\n",
      "Data Center 2\n",
      "Warehousing 2\n",
      "Accounting 2\n",
      "Hospitality 2\n",
      "Subscription Service 2\n",
      "Ticketing 2\n",
      "Operating Systems 2\n",
      "Delivery 2\n",
      "Digital Entertainment 2\n",
      "Government 2\n",
      "Non Profit 2\n",
      "Product Management 2\n",
      "Financial Exchanges 2\n",
      "Field-Programmable Gate Array (FPGA) 2\n",
      "Payments 2\n",
      "Hospital 2\n",
      "Music Streaming 2\n",
      "Renewable Energy 2\n",
      "Family 2\n",
      "Outsourcing 2\n",
      "Small and Medium Businesses 2\n",
      "Parking 2\n",
      "Nutrition 2\n",
      "Quantified Self 1\n",
      "A/B Testing 1\n",
      "IT Infrastructure 1\n",
      "College Recruiting 1\n",
      "Project Management 1\n",
      "Credit Cards 1\n",
      "Diabetes 1\n",
      "Call Center 1\n",
      "Consumer Goods 1\n",
      "Unified Communications 1\n",
      "Snack Food 1\n",
      "Personal Branding 1\n",
      "Industrial 1\n",
      "Web Apps 1\n",
      "Home Health Care 1\n",
      "Higher Education 1\n",
      "Ad Targeting 1\n",
      "E-Signature 1\n",
      "National Security 1\n",
      "Battery 1\n",
      "Dietary Supplements 1\n",
      "Motion Capture 1\n",
      "GPS 1\n",
      "Last Mile Transportation 1\n",
      "Sustainability 1\n",
      "Procurement 1\n",
      "Podcast 1\n",
      "Management Information Systems 1\n",
      "Rental 1\n",
      "Wine And Spirits 1\n",
      "CMS 1\n",
      "Energy Efficiency 1\n",
      "Solar 1\n",
      "Contact Management 1\n",
      "Home Improvement 1\n",
      "Psychology 1\n",
      "Law Enforcement 1\n",
      "Dating 1\n",
      "Leisure 1\n",
      "Machinery Manufacturing 1\n",
      "Water Purification 1\n",
      "Consumer Reviews 1\n",
      "Credit 1\n",
      "Tourism 1\n",
      "Direct Sales 1\n",
      "Concerts 1\n",
      "Theatre 1\n",
      "Eyewear 1\n",
      "Shopping Mall 1\n",
      "Delivery Service 1\n",
      "Farmers Market 1\n",
      "Food Delivery 1\n",
      "Content Creators 1\n",
      "Social Media Management 1\n",
      "TV 1\n",
      "Aerospace 1\n",
      "Scheduling 1\n",
      "Furniture 1\n",
      "Interior Design 1\n",
      "Commercial 1\n",
      "Animation 1\n",
      "Information and Communications Technology (ICT) 1\n",
      "Reputation 1\n",
      "Impact Investing 1\n",
      "Fantasy Sports 1\n",
      "Retirement 1\n",
      "Property Management 1\n",
      "Oil and Gas 1\n",
      "Social CRM 1\n",
      "Embedded Software 1\n",
      "Innovation Management 1\n",
      "Product Research 1\n",
      "Private Cloud 1\n",
      "Tutoring 1\n",
      "Communication Hardware 1\n",
      "Cannabis 1\n",
      "UX Design 1\n",
      "Social News 1\n",
      "Beauty 1\n",
      "Environmental Engineering 1\n",
      "Crowdfunding 1\n",
      "Stock Exchanges 1\n",
      "Trading Platform 1\n",
      "Virtual Currency 1\n",
      "Asset Management 1\n",
      "Event Management 1\n",
      "Meeting Software 1\n",
      "Optical Communication 1\n",
      "Content Delivery Network 1\n",
      "Management Consulting 1\n",
      "Coffee 1\n",
      "Restaurants 1\n",
      "Biometrics 1\n",
      "Social Entrepreneurship 1\n",
      "Social Impact 1\n",
      "Network Hardware 1\n",
      "Business Information Systems 1\n",
      "Google Glass 1\n",
      "Teenagers 1\n",
      "Women's 1\n",
      "Therapeutics 1\n"
     ]
    }
   ],
   "source": [
    "for category, count in categories_count:\n",
    "    print(category, count)    "
   ]
  },
  {
   "cell_type": "markdown",
   "execution_count": null,
   "metadata": {},
   "source": [
    "Here, we can see the list of unique categories with their corresponding occurence (sorted descendently)."
   ]
  },
  {
   "cell_type": "code",
   "execution_count": 10,
   "metadata": {},
   "outputs": [
    {
     "name": "stdout",
     "output_type": "stream",
     "text": [
      "368\n"
     ]
    }
   ],
   "source": [
    "print(len(categories_count))"
   ]
  },
  {
   "cell_type": "markdown",
   "execution_count": null,
   "metadata": {},
   "source": [
    "There are 368 unique categories in this data."
   ]
  },
  {
   "cell_type": "markdown",
   "execution_count": null,
   "metadata": {},
   "source": [
    "Analysing with so many unique categories is a tedious job. So, we will only keep a few top categories which covers around 95% of total entries."
   ]
  },
  {
   "cell_type": "code",
   "execution_count": 11,
   "metadata": {},
   "outputs": [],
   "source": [
    "categories_count = dict(categories_count)\n",
    "top_categories_count = {key:val for key,val in categories_count.items() if val>45} # 899 * 5% = 45 (approx.) "
   ]
  },
  {
   "cell_type": "markdown",
   "execution_count": null,
   "metadata": {},
   "source": [
    "Now we will plot top categories with their occurrences."
   ]
  },
  {
   "cell_type": "code",
   "execution_count": 12,
   "metadata": {},
   "outputs": [
    {
     "name": "stdout",
     "output_type": "stream",
     "text": [
      "{'Machine Learning': 899, 'Artificial Intelligence': 549, 'Software': 210, 'Big Data': 192, 'Analytics': 147, 'SaaS': 134, 'Enterprise Software': 118, 'Information Technology': 117, 'Predictive Analytics': 94, 'Computer Vision': 79, 'Natural Language Processing': 76, 'Health Care': 67, 'Mobile': 60, 'Internet of Things': 57, 'Internet': 48, 'Robotics': 46}\n"
     ]
    },
    {
     "data": {
      "image/png": "[encoded data removed]",
      "text/plain": [
       "<Figure size 432x288 with 1 Axes>"
      ]
     },
     "metadata": {
      "needs_background": "light"
     },
     "output_type": "display_data"
    }
   ],
   "source": [
    "print(top_categories_count)\n",
    "plt.bar(*zip(*top_categories_count.items()))\n",
    "plt.xticks(rotation=80)\n",
    "plt.xlabel('Category')\n",
    "plt.ylabel('No. of companies')\n",
    "plt.title('Category count')\n",
    "plt.show()"
   ]
  },
  {
   "cell_type": "markdown",
   "execution_count": null,
   "metadata": {},
   "source": [
    "Here, we see, some top categories which includes machine learning, artificial intelligence, software, big data etc. From these categories, machine learning occurs  899 times which means 100% entries have this category. So it is a most important category."
   ]
  },
  {
   "cell_type": "markdown",
   "execution_count": null,
   "metadata": {},
   "source": [
    "### Attribute 2: HQ location\n",
    "Here, locations of head quarters are given for different companies."
   ]
  },
  {
   "cell_type": "code",
   "execution_count": 13,
   "metadata": {},
   "outputs": [
    {
     "data": {
      "text/html": [
       "<div>\n",
       "<style scoped>\n",
       "    .dataframe tbody tr th:only-of-type {\n",
       "        vertical-align: middle;\n",
       "    }\n",
       "\n",
       "    .dataframe tbody tr th {\n",
       "        vertical-align: top;\n",
       "    }\n",
       "\n",
       "    .dataframe thead th {\n",
       "        text-align: right;\n",
       "    }\n",
       "</style>\n",
       "<table border=\"1\" class=\"dataframe\">\n",
       "  <thead>\n",
       "    <tr style=\"text-align: right;\">\n",
       "      <th></th>\n",
       "      <th>Name</th>\n",
       "      <th>HQ location</th>\n",
       "    </tr>\n",
       "  </thead>\n",
       "  <tbody>\n",
       "    <tr>\n",
       "      <th>0</th>\n",
       "      <td>CrowdStrike</td>\n",
       "      <td>Sunnyvale, California, United States</td>\n",
       "    </tr>\n",
       "    <tr>\n",
       "      <th>1</th>\n",
       "      <td>Quora</td>\n",
       "      <td>Mountain View, California, United States</td>\n",
       "    </tr>\n",
       "    <tr>\n",
       "      <th>2</th>\n",
       "      <td>Google</td>\n",
       "      <td>Mountain View, California, United States</td>\n",
       "    </tr>\n",
       "    <tr>\n",
       "      <th>3</th>\n",
       "      <td>uBiome</td>\n",
       "      <td>San Francisco, California, United States</td>\n",
       "    </tr>\n",
       "    <tr>\n",
       "      <th>4</th>\n",
       "      <td>Cloudera</td>\n",
       "      <td>Palo Alto, California, United States</td>\n",
       "    </tr>\n",
       "  </tbody>\n",
       "</table>\n",
       "</div>"
      ],
      "text/plain": [
       "          Name                               HQ location\n",
       "0  CrowdStrike      Sunnyvale, California, United States\n",
       "1        Quora  Mountain View, California, United States\n",
       "2       Google  Mountain View, California, United States\n",
       "3       uBiome  San Francisco, California, United States\n",
       "4     Cloudera      Palo Alto, California, United States"
      ]
     },
     "execution_count": 13,
     "metadata": {},
     "output_type": "execute_result"
    }
   ],
   "source": [
    "df_data[['Name','HQ location']].head(5)"
   ]
  },
  {
   "cell_type": "code",
   "execution_count": 14,
   "metadata": {},
   "outputs": [
    {
     "data": {
      "text/plain": [
       "San Francisco, California, United States          403\n",
       "Palo Alto, California, United States              108\n",
       "San Jose, California, United States                53\n",
       "Mountain View, California, United States           53\n",
       "Sunnyvale, California, United States               45\n",
       "San Mateo, California, United States               35\n",
       "Santa Clara, California, United States             31\n",
       "Berkeley, California, United States                30\n",
       "Redwood City, California, United States            26\n",
       "Menlo Park, California, United States              23\n",
       "Oakland, California, United States                 11\n",
       "Los Altos, California, United States                9\n",
       "Fremont, California, United States                  9\n",
       "Pleasanton, California, United States               5\n",
       "Campbell, California, United States                 5\n",
       "Foster City, California, United States              4\n",
       "San Carlos, California, United States               4\n",
       "Cupertino, California, United States                4\n",
       "Burlingame, California, United States               3\n",
       "Santa Cruz, California, United States               3\n",
       "San Ramon, California, United States                3\n",
       "Stanford, California, United States                 3\n",
       "South San Francisco, California, United States      3\n",
       "Richmond, California, United States                 2\n",
       "Dublin, California, United States                   2\n",
       "Milpitas, California, United States                 2\n",
       "Portola Valley, California, United States           2\n",
       "Emeryville, California, United States               2\n",
       "San Leandro, California, United States              1\n",
       "Mill Valley, California, United States              1\n",
       "Saratoga, California, United States                 1\n",
       "Greenbrae, California, United States                1\n",
       "Sausalito, California, United States                1\n",
       "Hayward, California, United States                  1\n",
       "San Salvador, San Salvador, El Salvador             1\n",
       "Santa Rosa, California, United States               1\n",
       "Los Gatos, California, United States                1\n",
       "Sonoma, California, United States                   1\n",
       "Walnut Creek, California, United States             1\n",
       "San Rafael, California, United States               1\n",
       "Millbrae, California, United States                 1\n",
       "Vallejo, California, United States                  1\n",
       "Lafayette, California, United States                1\n",
       "Newark, California, United States                   1\n",
       "Name: HQ location, dtype: int64"
      ]
     },
     "execution_count": 14,
     "metadata": {},
     "output_type": "execute_result"
    }
   ],
   "source": [
    "df_data['HQ location'].value_counts()"
   ]
  },
  {
   "cell_type": "code",
   "execution_count": 15,
   "metadata": {},
   "outputs": [],
   "source": [
    "city_set = set({})\n",
    "state_set = set({})\n",
    "country_set = set({})\n",
    "city_count = {}\n",
    "state_count = {}\n",
    "country_count = {}\n",
    "for combination in df_data['HQ location']:\n",
    "    ls = combination.split(',')\n",
    "    for i in range(len(ls)):\n",
    "        if ls[i][0] == ' ':\n",
    "            ls[i] = ls[i][1:]\n",
    "        if i == 0:\n",
    "            city_set.add(ls[i])\n",
    "            if ls[i] in city_count:\n",
    "                city_count[ls[i]] += 1\n",
    "            else:\n",
    "                city_count[ls[i]] = 1\n",
    "        elif i == 1:\n",
    "            state_set.add(ls[i])\n",
    "            if ls[i] in state_count:\n",
    "                state_count[ls[i]] += 1\n",
    "            else:\n",
    "                state_count[ls[i]] = 1\n",
    "        elif i == 2:\n",
    "            country_set.add(ls[i])\n",
    "            if ls[i] in country_count:\n",
    "                country_count[ls[i]] += 1\n",
    "            else:\n",
    "                country_count[ls[i]] = 1        \n",
    "            \n",
    "#now sorting the dictionary with respect to occurence count            \n",
    "city_count = sorted(city_count.items(), key=lambda x: x[1], reverse = True)  \n",
    "state_count = sorted(state_count.items(), key=lambda x: x[1], reverse = True)\n",
    "country_count = sorted(country_count.items(), key=lambda x: x[1], reverse = True) "
   ]
  },
  {
   "cell_type": "code",
   "execution_count": 16,
   "metadata": {},
   "outputs": [
    {
     "name": "stdout",
     "output_type": "stream",
     "text": [
      "Total number of cities:  44\n",
      "San Francisco 403\n",
      "Palo Alto 108\n",
      "Mountain View 53\n",
      "San Jose 53\n",
      "Sunnyvale 45\n",
      "San Mateo 35\n",
      "Santa Clara 31\n",
      "Berkeley 30\n",
      "Redwood City 26\n",
      "Menlo Park 23\n",
      "Oakland 11\n",
      "Los Altos 9\n",
      "Fremont 9\n",
      "Campbell 5\n",
      "Pleasanton 5\n",
      "Foster City 4\n",
      "Cupertino 4\n",
      "San Carlos 4\n",
      "South San Francisco 3\n",
      "Burlingame 3\n",
      "San Ramon 3\n",
      "Santa Cruz 3\n",
      "Stanford 3\n",
      "Emeryville 2\n",
      "Milpitas 2\n",
      "Richmond 2\n",
      "Portola Valley 2\n",
      "Dublin 2\n",
      "Walnut Creek 1\n",
      "Millbrae 1\n",
      "Santa Rosa 1\n",
      "Sausalito 1\n",
      "Sonoma 1\n",
      "Los Gatos 1\n",
      "San Salvador 1\n",
      "Greenbrae 1\n",
      "Vallejo 1\n",
      "Lafayette 1\n",
      "San Leandro 1\n",
      "San Rafael 1\n",
      "Mill Valley 1\n",
      "Hayward 1\n",
      "Newark 1\n",
      "Saratoga 1\n"
     ]
    }
   ],
   "source": [
    "print('Total number of cities: ', len(city_set))\n",
    "for city, count in city_count:\n",
    "    print(city, count)"
   ]
  },
  {
   "cell_type": "raw",
   "execution_count": null,
   "metadata": {},
   "source": [
    "From above, we see, there are 44 unique cities in the given dataset. Also, the name of the cities and their corresponding frequency are shown here."
   ]
  },
  {
   "cell_type": "code",
   "execution_count": 17,
   "metadata": {},
   "outputs": [
    {
     "name": "stdout",
     "output_type": "stream",
     "text": [
      "['San Francisco', 'Palo Alto', 'Mountain View', 'San Jose', 'Sunnyvale', 'San Mateo', 'Santa Clara', 'Berkeley', 'Redwood City', 'Others']\n",
      "[403, 108, 53, 53, 45, 35, 31, 30, 26, 115]\n"
     ]
    },
    {
     "data": {
      "image/png": "[encoded data removed]",
      "text/plain": [
       "<Figure size 432x288 with 1 Axes>"
      ]
     },
     "metadata": {},
     "output_type": "display_data"
    }
   ],
   "source": [
    "value = []\n",
    "label = []\n",
    "sum_ = 0\n",
    "for i in range(9):\n",
    "    label.append(city_count[i][0])\n",
    "    value.append(city_count[i][1])\n",
    "    sum_ += city_count[i][1]\n",
    "label.append('Others')\n",
    "value.append(df_data.shape[0] - sum_)\n",
    "\n",
    "print(label)\n",
    "print(value)\n",
    "patches, texts = plt.pie(value, shadow=True, startangle=90)\n",
    "plt.legend(patches, label, loc=\"best\")\n",
    "plt.axis('equal')\n",
    "plt.tight_layout()\n",
    "plt.title('Distribuition of companies in different cities')\n",
    "plt.show()"
   ]
  },
  {
   "cell_type": "markdown",
   "execution_count": null,
   "metadata": {},
   "source": [
    "In the pie chart, distribuition of the companies in different cities. Here, we can observe that, San Francisco contains most of the companies which is 402 in number (almost 50%). "
   ]
  },
  {
   "cell_type": "code",
   "execution_count": 18,
   "metadata": {},
   "outputs": [
    {
     "name": "stdout",
     "output_type": "stream",
     "text": [
      "Total number of states:  2\n",
      "California 898\n",
      "San Salvador 1\n"
     ]
    }
   ],
   "source": [
    "print('Total number of states: ', len(state_set))\n",
    "for state, count in state_count:\n",
    "    print(state, count)"
   ]
  },
  {
   "cell_type": "markdown",
   "execution_count": null,
   "metadata": {},
   "source": [
    "Here, we see, there only two states - California and San Salvador. All the companies are from California except one."
   ]
  },
  {
   "cell_type": "code",
   "execution_count": 19,
   "metadata": {},
   "outputs": [
    {
     "name": "stdout",
     "output_type": "stream",
     "text": [
      "Total number of countries:  2\n",
      "United States 898\n",
      "El Salvador 1\n"
     ]
    }
   ],
   "source": [
    "print('Total number of countries: ', len(country_set))\n",
    "for country, count in country_count:\n",
    "    print(country, count)"
   ]
  },
  {
   "cell_type": "markdown",
   "execution_count": null,
   "metadata": {},
   "source": [
    "Here, we see, there only two countries - United States and El Salvador. All the companies are from United States except one."
   ]
  },
  {
   "cell_type": "markdown",
   "execution_count": null,
   "metadata": {},
   "source": [
    "Finally, by obseving these all, we can say, most of the companies of the given dataset are based on California, United States."
   ]
  },
  {
   "cell_type": "markdown",
   "execution_count": null,
   "metadata": {},
   "source": [
    "### Attribute 3: Short Desc\n",
    "In this attribute, we get the short descriptions of the companies. For now, we will ignore this attribute in this analyse. Later, we can use this if required."
   ]
  },
  {
   "cell_type": "code",
   "execution_count": 20,
   "metadata": {},
   "outputs": [
    {
     "data": {
      "text/html": [
       "<div>\n",
       "<style scoped>\n",
       "    .dataframe tbody tr th:only-of-type {\n",
       "        vertical-align: middle;\n",
       "    }\n",
       "\n",
       "    .dataframe tbody tr th {\n",
       "        vertical-align: top;\n",
       "    }\n",
       "\n",
       "    .dataframe thead th {\n",
       "        text-align: right;\n",
       "    }\n",
       "</style>\n",
       "<table border=\"1\" class=\"dataframe\">\n",
       "  <thead>\n",
       "    <tr style=\"text-align: right;\">\n",
       "      <th></th>\n",
       "      <th>Name</th>\n",
       "      <th>Short Desc</th>\n",
       "    </tr>\n",
       "  </thead>\n",
       "  <tbody>\n",
       "    <tr>\n",
       "      <th>0</th>\n",
       "      <td>CrowdStrike</td>\n",
       "      <td>CrowdStrike is a cybersecurity technology firm...</td>\n",
       "    </tr>\n",
       "    <tr>\n",
       "      <th>1</th>\n",
       "      <td>Quora</td>\n",
       "      <td>Quora is a Q&amp;A platform with a mission to shar...</td>\n",
       "    </tr>\n",
       "    <tr>\n",
       "      <th>2</th>\n",
       "      <td>Google</td>\n",
       "      <td>Google is a multinational corporation that is ...</td>\n",
       "    </tr>\n",
       "    <tr>\n",
       "      <th>3</th>\n",
       "      <td>uBiome</td>\n",
       "      <td>uBiome is a citizen science startup that seque...</td>\n",
       "    </tr>\n",
       "    <tr>\n",
       "      <th>4</th>\n",
       "      <td>Cloudera</td>\n",
       "      <td>Cloudera delivers an Enterprise Data Cloud for...</td>\n",
       "    </tr>\n",
       "  </tbody>\n",
       "</table>\n",
       "</div>"
      ],
      "text/plain": [
       "          Name                                         Short Desc\n",
       "0  CrowdStrike  CrowdStrike is a cybersecurity technology firm...\n",
       "1        Quora  Quora is a Q&A platform with a mission to shar...\n",
       "2       Google  Google is a multinational corporation that is ...\n",
       "3       uBiome  uBiome is a citizen science startup that seque...\n",
       "4     Cloudera  Cloudera delivers an Enterprise Data Cloud for..."
      ]
     },
     "execution_count": 20,
     "metadata": {},
     "output_type": "execute_result"
    }
   ],
   "source": [
    "df_data[['Name','Short Desc']].head(5)"
   ]
  },
  {
   "cell_type": "markdown",
   "execution_count": null,
   "metadata": {},
   "source": [
    "### Attribute 4: CB Rank\n",
    "This attribute provides crunchbase ranks, it signifies the reputaiton of the companies."
   ]
  },
  {
   "cell_type": "code",
   "execution_count": 21,
   "metadata": {},
   "outputs": [
    {
     "data": {
      "text/html": [
       "<div>\n",
       "<style scoped>\n",
       "    .dataframe tbody tr th:only-of-type {\n",
       "        vertical-align: middle;\n",
       "    }\n",
       "\n",
       "    .dataframe tbody tr th {\n",
       "        vertical-align: top;\n",
       "    }\n",
       "\n",
       "    .dataframe thead th {\n",
       "        text-align: right;\n",
       "    }\n",
       "</style>\n",
       "<table border=\"1\" class=\"dataframe\">\n",
       "  <thead>\n",
       "    <tr style=\"text-align: right;\">\n",
       "      <th></th>\n",
       "      <th>Name</th>\n",
       "      <th>CB Rank</th>\n",
       "    </tr>\n",
       "  </thead>\n",
       "  <tbody>\n",
       "    <tr>\n",
       "      <th>0</th>\n",
       "      <td>CrowdStrike</td>\n",
       "      <td>11</td>\n",
       "    </tr>\n",
       "    <tr>\n",
       "      <th>1</th>\n",
       "      <td>Quora</td>\n",
       "      <td>73</td>\n",
       "    </tr>\n",
       "    <tr>\n",
       "      <th>2</th>\n",
       "      <td>Google</td>\n",
       "      <td>125</td>\n",
       "    </tr>\n",
       "    <tr>\n",
       "      <th>3</th>\n",
       "      <td>uBiome</td>\n",
       "      <td>148</td>\n",
       "    </tr>\n",
       "    <tr>\n",
       "      <th>4</th>\n",
       "      <td>Cloudera</td>\n",
       "      <td>188</td>\n",
       "    </tr>\n",
       "  </tbody>\n",
       "</table>\n",
       "</div>"
      ],
      "text/plain": [
       "          Name CB Rank\n",
       "0  CrowdStrike      11\n",
       "1        Quora      73\n",
       "2       Google     125\n",
       "3       uBiome     148\n",
       "4     Cloudera     188"
      ]
     },
     "execution_count": 21,
     "metadata": {},
     "output_type": "execute_result"
    }
   ],
   "source": [
    "df_data[['Name','CB Rank']].head(5)"
   ]
  },
  {
   "cell_type": "markdown",
   "execution_count": null,
   "metadata": {},
   "source": [
    "Here, we will pre-process values of CB Rank attribute. By omitting commas (',') and converting strings to integer forms. "
   ]
  },
  {
   "cell_type": "code",
   "execution_count": 22,
   "metadata": {},
   "outputs": [
    {
     "data": {
      "text/plain": [
       "0           11\n",
       "1           73\n",
       "2          125\n",
       "3          148\n",
       "4          188\n",
       "        ...   \n",
       "894    207,214\n",
       "895    208,521\n",
       "896    208,635\n",
       "897    211,519\n",
       "898    211,964\n",
       "Name: CB Rank, Length: 899, dtype: object"
      ]
     },
     "execution_count": 22,
     "metadata": {},
     "output_type": "execute_result"
    }
   ],
   "source": [
    "df_data = df_data.dropna(subset = ['CB Rank']) \n",
    "df_data['CB Rank']"
   ]
  },
  {
   "cell_type": "code",
   "execution_count": 23,
   "metadata": {},
   "outputs": [],
   "source": [
    "rank_list = []\n",
    "\n",
    "for i in range(len(df_data['CB Rank'])):\n",
    "    df_data['CB Rank'][i] = re.sub(\"[^\\d\\.]\", \"\", str(df_data['CB Rank'][i])) #here we are omitting commas\n",
    "    df_data['CB Rank'][i] = int(df_data['CB Rank'][i])\n",
    "    rank_list.append(df_data['CB Rank'][i])\n"
   ]
  },
  {
   "cell_type": "code",
   "execution_count": 24,
   "metadata": {},
   "outputs": [
    {
     "data": {
      "text/plain": [
       "894    207214\n",
       "895    208521\n",
       "896    208635\n",
       "897    211519\n",
       "898    211964\n",
       "Name: CB Rank, dtype: int64"
      ]
     },
     "execution_count": 24,
     "metadata": {},
     "output_type": "execute_result"
    }
   ],
   "source": [
    "df_data['CB Rank'] = pd.DataFrame(rank_list)\n",
    "df_data['CB Rank'].tail(5)"
   ]
  },
  {
   "cell_type": "markdown",
   "execution_count": null,
   "metadata": {},
   "source": [
    "Here, we will sort the companies according to CB Rank into three tiers - high rank, medium rank and low rank."
   ]
  },
  {
   "cell_type": "code",
   "execution_count": 25,
   "metadata": {},
   "outputs": [
    {
     "data": {
      "text/plain": [
       "((11, 70662), (70663, 141302), (141303, 211964))"
      ]
     },
     "execution_count": 25,
     "metadata": {},
     "output_type": "execute_result"
    }
   ],
   "source": [
    "min_ = min(rank_list) #minimum rank of the list is stored\n",
    "max_ = max(rank_list) #maximum rank of the list is stored\n",
    "range_ = max_ - min_  #this is the range of values of CB Ranks\n",
    "range1 = (min_, min_ + range_//3) \n",
    "range2 = (range1[1] + 1, (2*range_)//3)\n",
    "range3 = (range2[1] + 1, max_)\n",
    "range1, range2, range3"
   ]
  },
  {
   "cell_type": "markdown",
   "execution_count": null,
   "metadata": {},
   "source": [
    "<html>\n",
    "<body>\n",
    "\n",
    "<h10>The list of three tiers - </h10>\n",
    "\n",
    "<ul>\n",
    "  <li>The high ranked companies range in [11, 70662]</li>\n",
    "  <li>The medium ranked companies range in [70663, 141302]</li>\n",
    "  <li>The low ranked companies range in [141303, 211964]</li>\n",
    "</ul>  \n",
    "\n",
    "</body>\n",
    "</html>"
   ]
  },
  {
   "cell_type": "code",
   "execution_count": 26,
   "metadata": {},
   "outputs": [],
   "source": [
    "count_range1 = 0\n",
    "count_range2 = 0\n",
    "count_range3 = 0\n",
    "for item in rank_list:\n",
    "    if item >= range1[0] and item <= range1[1]:\n",
    "        count_range1 += 1\n",
    "    elif item >= range2[0] and item <= range2[1]:\n",
    "        count_range2 += 1\n",
    "    elif item >= range3[0] and item <= range3[1]:\n",
    "        count_range3 += 1      "
   ]
  },
  {
   "cell_type": "markdown",
   "execution_count": null,
   "metadata": {},
   "source": [
    "Now, we will observe the distribuition of ranks of different companies through a pie chart for 'High Rank', 'Medium Rank', and 'Lower Rank' tiers of CB ranks."
   ]
  },
  {
   "cell_type": "code",
   "execution_count": 27,
   "metadata": {},
   "outputs": [
    {
     "data": {
      "image/png": "[encoded data removed]",
      "text/plain": [
       "<Figure size 432x288 with 1 Axes>"
      ]
     },
     "metadata": {},
     "output_type": "display_data"
    }
   ],
   "source": [
    "label = ['High Rank', 'Medium Rank', 'Lower Rank']\n",
    "value = [count_range1, count_range2, count_range3]\n",
    "patches, texts = plt.pie(value, shadow=True, startangle=90)\n",
    "plt.legend(patches, label, loc=\"best\")\n",
    "plt.axis('equal')\n",
    "plt.tight_layout()\n",
    "plt.title('Distribuition of ranks of different companies')\n",
    "plt.show()"
   ]
  },
  {
   "cell_type": "markdown",
   "execution_count": null,
   "metadata": {},
   "source": [
    "From this distribution, we can see that most of the companies are high ranked. "
   ]
  },
  {
   "cell_type": "markdown",
   "execution_count": null,
   "metadata": {},
   "source": [
    "By experimenting another approach, we can observe this 'CB Rank' attribute. Here, we will split the values accroding to the mean value."
   ]
  },
  {
   "cell_type": "code",
   "execution_count": 28,
   "metadata": {},
   "outputs": [
    {
     "data": {
      "image/png": "[encoded data removed]",
      "text/plain": [
       "<Figure size 432x288 with 1 Axes>"
      ]
     },
     "metadata": {},
     "output_type": "display_data"
    }
   ],
   "source": [
    "import statistics\n",
    "x = statistics.mean(rank_list) # x is containg the mean of the rank's list\n",
    "count1 = 0\n",
    "count2 = 0\n",
    "for item in rank_list:\n",
    "    if item >= x:\n",
    "        count1 += 1\n",
    "    else:\n",
    "        count2 += 1\n",
    "\n",
    "labels = ['No of companies having CB rank more the mean', 'No of companies having CB rank less the mean']\n",
    "sizes = [count1, count2]\n",
    "colors = ['lightskyblue', 'lightcoral']\n",
    "patches, texts = plt.pie(sizes, colors=colors, shadow=True, startangle=90)\n",
    "plt.legend(patches, labels, loc=\"best\")\n",
    "plt.axis('equal')\n",
    "plt.tight_layout()\n",
    "plt.show()"
   ]
  },
  {
   "cell_type": "markdown",
   "execution_count": null,
   "metadata": {},
   "source": [
    "From the above pie chart, we see that there are more companies having CB Rank less than mean."
   ]
  },
  {
   "cell_type": "markdown",
   "execution_count": null,
   "metadata": {},
   "source": [
    "### Attribute 5: Website "
   ]
  },
  {
   "cell_type": "code",
   "execution_count": 29,
   "metadata": {},
   "outputs": [
    {
     "data": {
      "text/html": [
       "<div>\n",
       "<style scoped>\n",
       "    .dataframe tbody tr th:only-of-type {\n",
       "        vertical-align: middle;\n",
       "    }\n",
       "\n",
       "    .dataframe tbody tr th {\n",
       "        vertical-align: top;\n",
       "    }\n",
       "\n",
       "    .dataframe thead th {\n",
       "        text-align: right;\n",
       "    }\n",
       "</style>\n",
       "<table border=\"1\" class=\"dataframe\">\n",
       "  <thead>\n",
       "    <tr style=\"text-align: right;\">\n",
       "      <th></th>\n",
       "      <th>Name</th>\n",
       "      <th>Website</th>\n",
       "    </tr>\n",
       "  </thead>\n",
       "  <tbody>\n",
       "    <tr>\n",
       "      <th>0</th>\n",
       "      <td>CrowdStrike</td>\n",
       "      <td>http://www.crowdstrike.com</td>\n",
       "    </tr>\n",
       "    <tr>\n",
       "      <th>1</th>\n",
       "      <td>Quora</td>\n",
       "      <td>http://quora.com</td>\n",
       "    </tr>\n",
       "    <tr>\n",
       "      <th>2</th>\n",
       "      <td>Google</td>\n",
       "      <td>http://www.google.com/</td>\n",
       "    </tr>\n",
       "    <tr>\n",
       "      <th>3</th>\n",
       "      <td>uBiome</td>\n",
       "      <td>http://ubiome.com</td>\n",
       "    </tr>\n",
       "    <tr>\n",
       "      <th>4</th>\n",
       "      <td>Cloudera</td>\n",
       "      <td>http://www.cloudera.com</td>\n",
       "    </tr>\n",
       "  </tbody>\n",
       "</table>\n",
       "</div>"
      ],
      "text/plain": [
       "          Name                     Website\n",
       "0  CrowdStrike  http://www.crowdstrike.com\n",
       "1        Quora            http://quora.com\n",
       "2       Google      http://www.google.com/\n",
       "3       uBiome           http://ubiome.com\n",
       "4     Cloudera     http://www.cloudera.com"
      ]
     },
     "execution_count": 29,
     "metadata": {},
     "output_type": "execute_result"
    }
   ],
   "source": [
    "df_data[['Name','Website']].head(5)"
   ]
  },
  {
   "cell_type": "markdown",
   "execution_count": null,
   "metadata": {},
   "source": [
    "By accessing important informations from websites of different companies, we can enrich our dataset which will be useful for several furture experiments. Now, we can skip this attribute and observe other upcoming attributes."
   ]
  },
  {
   "cell_type": "markdown",
   "execution_count": null,
   "metadata": {},
   "source": [
    "### Attribute 6: Twitter"
   ]
  },
  {
   "cell_type": "code",
   "execution_count": 30,
   "metadata": {},
   "outputs": [
    {
     "data": {
      "text/plain": [
       "https://twitter.com/hunamakia              1\n",
       "https://twitter.com/lucidinside?lang=en    1\n",
       "https://www.twitter.com/enigmapattern      1\n",
       "https://www.twitter.com/scanta_io          1\n",
       "https://twitter.com/clearbraininc          1\n",
       "                                          ..\n",
       "https://twitter.com/kynditech              1\n",
       "http://twitter.com/JetpacApp               1\n",
       "https://twitter.com/cloudmedicx            1\n",
       "http://twitter.com/getdesti                1\n",
       "http://twitter.com/adello                  1\n",
       "Name: Twitter, Length: 698, dtype: int64"
      ]
     },
     "execution_count": 30,
     "metadata": {},
     "output_type": "execute_result"
    }
   ],
   "source": [
    "df_data['Twitter'].value_counts()"
   ]
  },
  {
   "cell_type": "markdown",
   "execution_count": null,
   "metadata": {},
   "source": [
    "By accessing important informations from twitter accounts of different companies, we can enrich our dataset which will be useful for several furture observations. Now, we can skip this attribute and observe other upcoming attributes."
   ]
  },
  {
   "cell_type": "markdown",
   "execution_count": null,
   "metadata": {},
   "source": [
    "### Attribute 7: Linkedin"
   ]
  },
  {
   "cell_type": "code",
   "execution_count": 31,
   "metadata": {},
   "outputs": [
    {
     "data": {
      "text/plain": [
       "http://www.facebook.com/DeserveCards                               1\n",
       "https://www.linkedin.com/company/12956248                          1\n",
       "http://www.linkedin.com/company/provectus-it-inc                   1\n",
       "https://www.linkedin.com/company/youspace/?originalSubdomain=in    1\n",
       "https://www.linkedin.com/company/aiincorporated                    1\n",
       "                                                                  ..\n",
       "https://www.linkedin.com/company/clearlaw/about/                   1\n",
       "https://www.linkedin.com/company/fitbod-llc                        1\n",
       "https://www.linkedin.com/company/inversation/                      1\n",
       "https://www.linkedin.com/company/11179272/                         1\n",
       "https://www.linkedin.com/company/silta                             1\n",
       "Name: Linkedin, Length: 754, dtype: int64"
      ]
     },
     "execution_count": 31,
     "metadata": {},
     "output_type": "execute_result"
    }
   ],
   "source": [
    "df_data['Linkedin'].value_counts()"
   ]
  },
  {
   "cell_type": "markdown",
   "execution_count": null,
   "metadata": {},
   "source": [
    "By accessing important data and finding out chief features from linkedin profiles of different companies, we can enrich our dataset which will be useful for furture experiments. Now, we can skip this attribute and observe other upcoming attributes."
   ]
  },
  {
   "cell_type": "markdown",
   "execution_count": null,
   "metadata": {},
   "source": [
    "### Attribute 8: Email"
   ]
  },
  {
   "cell_type": "code",
   "execution_count": 32,
   "metadata": {},
   "outputs": [
    {
     "data": {
      "text/plain": [
       "—                          142\n",
       "support@moesif.com           1\n",
       "info@zepl.com                1\n",
       "hello@tonic.ai               1\n",
       "support@ph-networks.com      1\n",
       "                          ... \n",
       "hello@beyondpricing.com      1\n",
       "info@crowdstrike.com         1\n",
       "hi@ansaro.ai                 1\n",
       "founders@reduct.video        1\n",
       "info@uhana.io                1\n",
       "Name: Email, Length: 758, dtype: int64"
      ]
     },
     "execution_count": 32,
     "metadata": {},
     "output_type": "execute_result"
    }
   ],
   "source": [
    "df_data['Email'].value_counts()\n"
   ]
  },
  {
   "cell_type": "markdown",
   "execution_count": null,
   "metadata": {},
   "source": [
    "Here invalid email symbol represents the null value in this field. As we can see that around 142 email id are not given, so we can conclude that the data quality for the attribute 'Email' is not good. "
   ]
  },
  {
   "cell_type": "markdown",
   "execution_count": null,
   "metadata": {},
   "source": [
    "### Attribute 9: Phone\n",
    "For finding out potential clients, the attribute 'Phone' has no impact actually. "
   ]
  },
  {
   "cell_type": "code",
   "execution_count": 33,
   "metadata": {},
   "outputs": [
    {
     "data": {
      "text/plain": [
       "—                    481\n",
       "855-695-8636           2\n",
       "(650) 665-9603         2\n",
       "(408)758-0356          1\n",
       "+18443762777           1\n",
       "                    ... \n",
       "(510)579-8785          1\n",
       "+1 (650) 425-9957      1\n",
       "(562) 774-4678         1\n",
       "(650)401-8282          1\n",
       "(650) 353-2377         1\n",
       "Name: Phone, Length: 417, dtype: int64"
      ]
     },
     "execution_count": 33,
     "metadata": {},
     "output_type": "execute_result"
    }
   ],
   "source": [
    "df_data['Phone'].value_counts()"
   ]
  },
  {
   "cell_type": "markdown",
   "execution_count": null,
   "metadata": {},
   "source": [
    "As we see, there are exactly 481 fields of phone number which are 'not given'. So the quality of this attribute 'Phone' in the dataset is not satisfactory."
   ]
  },
  {
   "cell_type": "markdown",
   "execution_count": null,
   "metadata": {},
   "source": [
    "### Attribute 10: Operational Status"
   ]
  },
  {
   "cell_type": "code",
   "execution_count": 34,
   "metadata": {},
   "outputs": [
    {
     "data": {
      "text/plain": [
       "Active    874\n",
       "Closed     25\n",
       "Name: Operational Status, dtype: int64"
      ]
     },
     "execution_count": 34,
     "metadata": {},
     "output_type": "execute_result"
    }
   ],
   "source": [
    "df_data['Operational Status'].value_counts()"
   ]
  },
  {
   "cell_type": "code",
   "execution_count": 35,
   "metadata": {},
   "outputs": [
    {
     "data": {
      "text/plain": [
       "Active    874\n",
       "Name: Operational Status, dtype: int64"
      ]
     },
     "execution_count": 35,
     "metadata": {},
     "output_type": "execute_result"
    }
   ],
   "source": [
    "df_data = df_data[df_data['Operational Status'] == 'Active']\n",
    "df_data.to_csv('temp.csv', index = False)\n",
    "df_data = pd.read_csv('temp.csv')\n",
    "df_data['Operational Status'].value_counts()"
   ]
  },
  {
   "cell_type": "markdown",
   "execution_count": null,
   "metadata": {},
   "source": [
    "Actually, the companies having Operational Status as 'Closed', should not be considered. The abelling sales team must consider those companies whose Operational Status is 'Active'."
   ]
  },
  {
   "cell_type": "markdown",
   "execution_count": null,
   "metadata": {},
   "source": [
    "### Attribute 11: Founded "
   ]
  },
  {
   "cell_type": "code",
   "execution_count": 36,
   "metadata": {},
   "outputs": [
    {
     "data": {
      "text/plain": [
       "2016            58\n",
       "2015            54\n",
       "2017            47\n",
       "2014            44\n",
       "2013            43\n",
       "                ..\n",
       "Feb 7, 2017      1\n",
       "Nov 15, 2014     1\n",
       "Oct 14, 2014     1\n",
       "Sep 1, 2012      1\n",
       "Feb 14, 2014     1\n",
       "Name: Founded, Length: 387, dtype: int64"
      ]
     },
     "execution_count": 36,
     "metadata": {},
     "output_type": "execute_result"
    }
   ],
   "source": [
    "df_data['Founded'].value_counts()"
   ]
  },
  {
   "cell_type": "markdown",
   "execution_count": null,
   "metadata": {},
   "source": [
    "From above, we see, there are different formats for same attribute's values in the given dataset. But we can handle these fields through data pre-processing. "
   ]
  },
  {
   "cell_type": "code",
   "execution_count": 37,
   "metadata": {},
   "outputs": [
    {
     "name": "stderr",
     "output_type": "stream",
     "text": [
      "/opt/conda/lib/python3.7/site-packages/ipykernel_launcher.py:14: SettingWithCopyWarning: \n",
      "A value is trying to be set on a copy of a slice from a DataFrame\n",
      "\n",
      "See the caveats in the documentation: https://pandas.pydata.org/pandas-docs/stable/user_guide/indexing.html#returning-a-view-versus-a-copy\n",
      "  \n"
     ]
    }
   ],
   "source": [
    "for i in range(len(df_data['Founded'])):\n",
    "    temp = df_data['Founded'][i]\n",
    "\n",
    "    if len(temp) == 1:\n",
    "        year = 16 #dummy value\n",
    "    else:\n",
    "        year = str(temp[-2]) + str(temp[-1])\n",
    "    \n",
    "    if int(year) > 20:\n",
    "        year = '19' + str(year)\n",
    "    else:\n",
    "        year = '20' + str(year)\n",
    "    \n",
    "    df_data['Founded'][i] = int(year)"
   ]
  },
  {
   "cell_type": "code",
   "execution_count": 38,
   "metadata": {},
   "outputs": [
    {
     "name": "stdout",
     "output_type": "stream",
     "text": [
      "2016    172\n",
      "2015    137\n",
      "2017    127\n",
      "2014    108\n",
      "2013     80\n",
      "2018     70\n",
      "2012     49\n",
      "2011     40\n",
      "2010     22\n",
      "2019     13\n",
      "2009     13\n",
      "2008     10\n",
      "2007      8\n",
      "2005      6\n",
      "2006      4\n",
      "2000      3\n",
      "1999      3\n",
      "2001      2\n",
      "1997      2\n",
      "2004      1\n",
      "2003      1\n",
      "1998      1\n",
      "1994      1\n",
      "1992      1\n",
      "Name: Founded, dtype: int64\n"
     ]
    }
   ],
   "source": [
    "df_data['Founded'] = df_data['Founded'].astype(int)\n",
    "print(df_data['Founded'].value_counts())"
   ]
  },
  {
   "cell_type": "markdown",
   "execution_count": null,
   "metadata": {},
   "source": [
    "After pre-processing this attribute, we are considering only the year from the values of founded date."
   ]
  },
  {
   "cell_type": "code",
   "execution_count": 39,
   "metadata": {},
   "outputs": [],
   "source": [
    "founded_count = dict(df_data['Founded'].value_counts())\n",
    "founded_count = sorted(founded_count.items(), key=lambda x: x[1], reverse = True) "
   ]
  },
  {
   "cell_type": "code",
   "execution_count": 40,
   "metadata": {},
   "outputs": [
    {
     "name": "stdout",
     "output_type": "stream",
     "text": [
      "[2016, 2015, 2017, 2014, 2013, 2018, 2012, 2011, 2010, 'Others']\n",
      "[172, 137, 127, 108, 80, 70, 49, 40, 22, 69]\n"
     ]
    },
    {
     "data": {
      "image/png": "[encoded data removed]",
      "text/plain": [
       "<Figure size 432x288 with 1 Axes>"
      ]
     },
     "metadata": {},
     "output_type": "display_data"
    }
   ],
   "source": [
    "\n",
    "value = []\n",
    "label = []\n",
    "sum_ = 0\n",
    "for i in range(9):\n",
    "    label.append(founded_count[i][0])\n",
    "    value.append(founded_count[i][1])\n",
    "    sum_ += founded_count[i][1]\n",
    "label.append('Others')\n",
    "value.append(df_data.shape[0] - sum_)\n",
    "\n",
    "print(label)\n",
    "print(value)\n",
    "patches, texts = plt.pie(value, shadow=True, startangle=90)\n",
    "plt.legend(patches, label, loc=\"best\")\n",
    "plt.axis('equal')\n",
    "plt.tight_layout()\n",
    "plt.title('Frequency distribuition of founded year for different companies')\n",
    "plt.show()"
   ]
  },
  {
   "cell_type": "markdown",
   "execution_count": null,
   "metadata": {},
   "source": [
    "From the above pie chart, we see that frequency distribuition of founded year 2016, 2015 and 2017 are the top three most founded year. "
   ]
  },
  {
   "cell_type": "markdown",
   "execution_count": null,
   "metadata": {},
   "source": [
    "### Attribut 12: HQ Region"
   ]
  },
  {
   "cell_type": "code",
   "execution_count": 41,
   "metadata": {},
   "outputs": [
    {
     "data": {
      "text/plain": [
       "San Francisco Bay Area, West Coast, Western US        472\n",
       "San Francisco Bay Area, Silicon Valley, West Coast    402\n",
       "Name: HQ region, dtype: int64"
      ]
     },
     "execution_count": 41,
     "metadata": {},
     "output_type": "execute_result"
    }
   ],
   "source": [
    "df_data['HQ region'].value_counts()"
   ]
  },
  {
   "cell_type": "markdown",
   "execution_count": null,
   "metadata": {},
   "source": [
    "Here, we can observe that, Head Quarter region for 'San Francisco Bay Area, West Coast, Western US' occurs mostly."
   ]
  },
  {
   "cell_type": "markdown",
   "execution_count": null,
   "metadata": {},
   "source": [
    "### Attribute 13: Estimated Revenue"
   ]
  },
  {
   "cell_type": "code",
   "execution_count": 42,
   "metadata": {},
   "outputs": [
    {
     "data": {
      "text/plain": [
       "—                561\n",
       "$1M to $10M      196\n",
       "Less than $1M    110\n",
       "$10M to $50M       4\n",
       "$50M to $100M      2\n",
       "$10B+              1\n",
       "Name: Estimated Revenue, dtype: int64"
      ]
     },
     "execution_count": 42,
     "metadata": {},
     "output_type": "execute_result"
    }
   ],
   "source": [
    "df_data['Estimated Revenue'].value_counts()"
   ]
  },
  {
   "cell_type": "markdown",
   "execution_count": null,
   "metadata": {},
   "source": [
    "Here, exactly 561 entries of the attribute 'Estimated Revenue' are not given. So, the data quality should be improved."
   ]
  },
  {
   "cell_type": "code",
   "execution_count": 43,
   "metadata": {},
   "outputs": [],
   "source": [
    "revenue_count = dict(df_data['Estimated Revenue'].value_counts())\n",
    "revenue_count = sorted(revenue_count.items(), key=lambda x: x[1], reverse = True) "
   ]
  },
  {
   "cell_type": "code",
   "execution_count": 44,
   "metadata": {},
   "outputs": [
    {
     "name": "stdout",
     "output_type": "stream",
     "text": [
      "['Not Given', '$1M to $10M', 'Less than $1M', '$10M to $50M', '$50M to $100M', '$10B+']\n",
      "[561, 196, 110, 4, 2, 1]\n"
     ]
    },
    {
     "data": {
      "image/png": "[encoded data removed]",
      "text/plain": [
       "<Figure size 432x288 with 1 Axes>"
      ]
     },
     "metadata": {},
     "output_type": "display_data"
    }
   ],
   "source": [
    "value = []\n",
    "label = []\n",
    "for i in range(len(revenue_count)):\n",
    "    if len(revenue_count[i][0]) == 1:\n",
    "        label.append('Not Given')\n",
    "    else:    \n",
    "        label.append(revenue_count[i][0])\n",
    "    value.append(revenue_count[i][1])\n",
    "\n",
    "print(label)\n",
    "print(value)\n",
    "patches, texts = plt.pie(value, shadow=True, startangle=90)\n",
    "plt.legend(patches, label, loc=\"best\")\n",
    "plt.axis('equal')\n",
    "plt.tight_layout()\n",
    "plt.title('Frequency distribuition of estimated revenue for different companies')\n",
    "plt.show()"
   ]
  },
  {
   "cell_type": "markdown",
   "execution_count": null,
   "metadata": {},
   "source": [
    "### Attribute 14: Type"
   ]
  },
  {
   "cell_type": "code",
   "execution_count": 45,
   "metadata": {},
   "outputs": [
    {
     "data": {
      "text/plain": [
       "For Profit    767\n",
       "—             106\n",
       "Non-profit      1\n",
       "Name: Type, dtype: int64"
      ]
     },
     "execution_count": 45,
     "metadata": {},
     "output_type": "execute_result"
    }
   ],
   "source": [
    "df_data['Type'].value_counts()"
   ]
  },
  {
   "cell_type": "markdown",
   "execution_count": null,
   "metadata": {},
   "source": [
    "Around 106 entries for the attribue 'Type' are not given. Data quality for this attribute is not good."
   ]
  },
  {
   "cell_type": "markdown",
   "execution_count": null,
   "metadata": {},
   "source": [
    "### Attribute 15: Facebook"
   ]
  },
  {
   "cell_type": "code",
   "execution_count": 46,
   "metadata": {},
   "outputs": [
    {
     "data": {
      "text/plain": [
       "View on Facebook    568\n",
       "Name: Facebook, dtype: int64"
      ]
     },
     "execution_count": 46,
     "metadata": {},
     "output_type": "execute_result"
    }
   ],
   "source": [
    "df_data['Facebook'].value_counts()"
   ]
  },
  {
   "cell_type": "markdown",
   "execution_count": null,
   "metadata": {},
   "source": [
    "By accessing important data and finding out chief features from facebook accounts of different companies, we can enrich our dataset which will be useful for furture experiments. Now, we can skip this attribute and observe other upcoming attributes."
   ]
  },
  {
   "cell_type": "markdown",
   "execution_count": null,
   "metadata": {},
   "source": [
    "### Attribute 16: Full Desc"
   ]
  },
  {
   "cell_type": "code",
   "execution_count": 47,
   "metadata": {},
   "outputs": [
    {
     "data": {
      "text/html": [
       "<div>\n",
       "<style scoped>\n",
       "    .dataframe tbody tr th:only-of-type {\n",
       "        vertical-align: middle;\n",
       "    }\n",
       "\n",
       "    .dataframe tbody tr th {\n",
       "        vertical-align: top;\n",
       "    }\n",
       "\n",
       "    .dataframe thead th {\n",
       "        text-align: right;\n",
       "    }\n",
       "</style>\n",
       "<table border=\"1\" class=\"dataframe\">\n",
       "  <thead>\n",
       "    <tr style=\"text-align: right;\">\n",
       "      <th></th>\n",
       "      <th>Name</th>\n",
       "      <th>Full Desc</th>\n",
       "    </tr>\n",
       "  </thead>\n",
       "  <tbody>\n",
       "    <tr>\n",
       "      <th>0</th>\n",
       "      <td>CrowdStrike</td>\n",
       "      <td>CrowdStrike is a cybersecurity technology firm...</td>\n",
       "    </tr>\n",
       "    <tr>\n",
       "      <th>1</th>\n",
       "      <td>Quora</td>\n",
       "      <td>Quora is a question-and-answer website created...</td>\n",
       "    </tr>\n",
       "    <tr>\n",
       "      <th>2</th>\n",
       "      <td>Google</td>\n",
       "      <td>Google is a multinational corporation that is ...</td>\n",
       "    </tr>\n",
       "    <tr>\n",
       "      <th>3</th>\n",
       "      <td>uBiome</td>\n",
       "      <td>uBiome is a citizen science startup that seque...</td>\n",
       "    </tr>\n",
       "    <tr>\n",
       "      <th>4</th>\n",
       "      <td>Cloudera</td>\n",
       "      <td>Cloudera delivers an Enterprise Data Cloud for...</td>\n",
       "    </tr>\n",
       "  </tbody>\n",
       "</table>\n",
       "</div>"
      ],
      "text/plain": [
       "          Name                                          Full Desc\n",
       "0  CrowdStrike  CrowdStrike is a cybersecurity technology firm...\n",
       "1        Quora  Quora is a question-and-answer website created...\n",
       "2       Google  Google is a multinational corporation that is ...\n",
       "3       uBiome  uBiome is a citizen science startup that seque...\n",
       "4     Cloudera  Cloudera delivers an Enterprise Data Cloud for..."
      ]
     },
     "execution_count": 47,
     "metadata": {},
     "output_type": "execute_result"
    }
   ],
   "source": [
    "df_data[['Name','Full Desc']].head(5)"
   ]
  },
  {
   "cell_type": "markdown",
   "execution_count": null,
   "metadata": {},
   "source": [
    "By this attribute, we can have more idea about companies than the 'Short Desc' attribute."
   ]
  },
  {
   "cell_type": "markdown",
   "execution_count": null,
   "metadata": {},
   "source": [
    "### Attribute 17: Acquired By"
   ]
  },
  {
   "cell_type": "code",
   "execution_count": 48,
   "metadata": {},
   "outputs": [
    {
     "data": {
      "text/plain": [
       "—               772\n",
       "Google            5\n",
       "Salesforce        5\n",
       "Apple             5\n",
       "Microsoft         4\n",
       "               ... \n",
       "Nokia             1\n",
       "Cloudera          1\n",
       "NICE Systems      1\n",
       "GoPro             1\n",
       "Medallia          1\n",
       "Name: Acquired By, Length: 80, dtype: int64"
      ]
     },
     "execution_count": 48,
     "metadata": {},
     "output_type": "execute_result"
    }
   ],
   "source": [
    "df_data['Acquired By'].value_counts()"
   ]
  },
  {
   "cell_type": "markdown",
   "execution_count": null,
   "metadata": {},
   "source": [
    "The data quality of this attribute is also not good. Here we see 772 entries are not provided."
   ]
  },
  {
   "cell_type": "code",
   "execution_count": 49,
   "metadata": {},
   "outputs": [],
   "source": [
    "acquired_count = dict(df_data['Acquired By'].value_counts())\n",
    "acquired_count = sorted(acquired_count.items(), key=lambda x: x[1], reverse = True) "
   ]
  },
  {
   "cell_type": "code",
   "execution_count": 50,
   "metadata": {},
   "outputs": [
    {
     "name": "stdout",
     "output_type": "stream",
     "text": [
      "['Not acquird yet', 'Google', 'Salesforce', 'Apple', 'Microsoft', 'Others']\n",
      "[772, 5, 5, 5, 4, 83]\n"
     ]
    },
    {
     "data": {
      "image/png": "[encoded data removed]",
      "text/plain": [
       "<Figure size 432x288 with 1 Axes>"
      ]
     },
     "metadata": {},
     "output_type": "display_data"
    }
   ],
   "source": [
    "value = []\n",
    "label = []\n",
    "sum_ = 0\n",
    "for i in range(5):\n",
    "    if len(acquired_count[i][0]) == 1:\n",
    "        label.append('Not acquird yet')\n",
    "    else:    \n",
    "        label.append(acquired_count[i][0])\n",
    "    value.append(acquired_count[i][1])\n",
    "    sum_ += acquired_count[i][1]\n",
    "    \n",
    "label.append('Others')\n",
    "value.append(df_data.shape[0] - sum_)\n",
    "print(label)\n",
    "print(value)\n",
    "patches, texts = plt.pie(value, shadow=True, startangle=90)\n",
    "plt.legend(patches, label, loc=\"best\")\n",
    "plt.axis('equal')\n",
    "plt.tight_layout()\n",
    "plt.title('Frequency distribuition of parent organizations of different companies')\n",
    "plt.show()"
   ]
  },
  {
   "cell_type": "markdown",
   "execution_count": null,
   "metadata": {},
   "source": [
    "In the pie chart, also we can see that the largest portion of the data is not aquired."
   ]
  },
  {
   "cell_type": "markdown",
   "execution_count": null,
   "metadata": {},
   "source": [
    "### Attribute 18: Total Funding"
   ]
  },
  {
   "cell_type": "code",
   "execution_count": 51,
   "metadata": {},
   "outputs": [
    {
     "data": {
      "text/plain": [
       "—               331\n",
       "$2,000,000       19\n",
       "$100,000         12\n",
       "$1,500,000       12\n",
       "$10,000,000       8\n",
       "               ... \n",
       "$925,000          1\n",
       "$730,000          1\n",
       "$7,858,466        1\n",
       "$130,000,000      1\n",
       "$54,500,000       1\n",
       "Name: Total Funding, Length: 355, dtype: int64"
      ]
     },
     "execution_count": 51,
     "metadata": {},
     "output_type": "execute_result"
    }
   ],
   "source": [
    "df_data['Total Funding'].value_counts()"
   ]
  },
  {
   "cell_type": "code",
   "execution_count": 52,
   "metadata": {},
   "outputs": [
    {
     "name": "stderr",
     "output_type": "stream",
     "text": [
      "/opt/conda/lib/python3.7/site-packages/ipykernel_launcher.py:14: SettingWithCopyWarning: \n",
      "A value is trying to be set on a copy of a slice from a DataFrame\n",
      "\n",
      "See the caveats in the documentation: https://pandas.pydata.org/pandas-docs/stable/user_guide/indexing.html#returning-a-view-versus-a-copy\n",
      "  \n",
      "/opt/conda/lib/python3.7/site-packages/ipykernel_launcher.py:22: SettingWithCopyWarning: \n",
      "A value is trying to be set on a copy of a slice from a DataFrame\n",
      "\n",
      "See the caveats in the documentation: https://pandas.pydata.org/pandas-docs/stable/user_guide/indexing.html#returning-a-view-versus-a-copy\n",
      "/opt/conda/lib/python3.7/site-packages/ipykernel_launcher.py:16: SettingWithCopyWarning: \n",
      "A value is trying to be set on a copy of a slice from a DataFrame\n",
      "\n",
      "See the caveats in the documentation: https://pandas.pydata.org/pandas-docs/stable/user_guide/indexing.html#returning-a-view-versus-a-copy\n",
      "  app.launch_new_instance()\n",
      "/opt/conda/lib/python3.7/site-packages/ipykernel_launcher.py:18: SettingWithCopyWarning: \n",
      "A value is trying to be set on a copy of a slice from a DataFrame\n",
      "\n",
      "See the caveats in the documentation: https://pandas.pydata.org/pandas-docs/stable/user_guide/indexing.html#returning-a-view-versus-a-copy\n"
     ]
    },
    {
     "data": {
      "text/plain": [
       "0       481000000\n",
       "1       226000000\n",
       "2        36100000\n",
       "3       109851193\n",
       "4      1041000000\n",
       "          ...    \n",
       "869      24194441\n",
       "870      24194441\n",
       "871      24194441\n",
       "872      24194441\n",
       "873      24194441\n",
       "Name: Total Funding, Length: 874, dtype: int64"
      ]
     },
     "execution_count": 52,
     "metadata": {},
     "output_type": "execute_result"
    }
   ],
   "source": [
    "fund_list = []\n",
    "for i in range(len(df_data['Total Funding'])):\n",
    "    if len(df_data['Total Funding'][i]) == 1:\n",
    "        continue\n",
    "    elif df_data['Total Funding'][i][0] != '$':\n",
    "        continue\n",
    "    fund = df_data['Total Funding'][i]\n",
    "    fund = fund.replace(\"$\", \"\").replace(\",\", \"\")\n",
    "    fund_list.append(int(fund))\n",
    "\n",
    "mean_ = statistics.mean(fund_list) #mean_ containes the mean value of the data having $signs with commas\n",
    "    \n",
    "for i in range(len(df_data['Total Funding'])):\n",
    "    df_data['Total Funding'][i] = str(df_data['Total Funding'][i])\n",
    "    if len(df_data['Total Funding'][i]) == 1:\n",
    "        df_data['Total Funding'][i] = mean_\n",
    "    elif df_data['Total Funding'][i][0] != '$':\n",
    "        df_data['Total Funding'][i] = mean_\n",
    "    fund = df_data['Total Funding'][i]\n",
    "    if df_data['Total Funding'][i] != mean_:\n",
    "        fund = fund.replace(\"$\", \"\").replace(\",\", \"\")\n",
    "    df_data['Total Funding'][i] = int(fund)\n",
    "\n",
    "df_data['Total Funding'] = df_data['Total Funding'].astype(int)\n",
    "df_data['Total Funding']"
   ]
  },
  {
   "cell_type": "markdown",
   "execution_count": null,
   "metadata": {},
   "source": [
    "We can observe the total count, mean, standard deviation, minimum and maximum value. Again 25% 50% and 75% percentiles of data indicate the values below which a certain percentage of the data indataset is found. "
   ]
  },
  {
   "cell_type": "code",
   "execution_count": 53,
   "metadata": {},
   "outputs": [
    {
     "name": "stdout",
     "output_type": "stream",
     "text": [
      "count    8.740000e+02\n",
      "mean     2.419444e+07\n",
      "std      6.652446e+07\n",
      "min      1.500000e+04\n",
      "25%      3.340720e+06\n",
      "50%      2.419444e+07\n",
      "75%      2.419444e+07\n",
      "max      1.328700e+09\n",
      "Name: Total Funding, dtype: float64\n"
     ]
    },
    {
     "data": {
      "text/plain": [
       "<matplotlib.axes._subplots.AxesSubplot at 0x7f3d115f5c10>"
      ]
     },
     "execution_count": 53,
     "metadata": {},
     "output_type": "execute_result"
    },
    {
     "data": {
      "image/png": "[encoded data removed]",
      "text/plain": [
       "<Figure size 432x288 with 1 Axes>"
      ]
     },
     "metadata": {
      "needs_background": "light"
     },
     "output_type": "display_data"
    }
   ],
   "source": [
    "print(df_data['Total Funding'].describe())\n",
    "df_data.boxplot(column=['Total Funding'])"
   ]
  },
  {
   "cell_type": "markdown",
   "execution_count": null,
   "metadata": {},
   "source": [
    "From this boxplot, we can observe the distribution of the data including the outliers."
   ]
  },
  {
   "cell_type": "code",
   "execution_count": 54,
   "metadata": {},
   "outputs": [
    {
     "name": "stdout",
     "output_type": "stream",
     "text": [
      "count    8.650000e+02\n",
      "mean     1.908938e+07\n",
      "std      2.008177e+07\n",
      "min      1.500000e+04\n",
      "25%      3.290000e+06\n",
      "50%      2.419444e+07\n",
      "75%      2.419444e+07\n",
      "max      1.790000e+08\n",
      "Name: Total Funding, dtype: float64\n"
     ]
    },
    {
     "data": {
      "text/plain": [
       "<matplotlib.axes._subplots.AxesSubplot at 0x7f3d115d1ed0>"
      ]
     },
     "execution_count": 54,
     "metadata": {},
     "output_type": "execute_result"
    },
    {
     "data": {
      "image/png": "[encoded data removed]",
      "text/plain": [
       "<Figure size 432x288 with 1 Axes>"
      ]
     },
     "metadata": {
      "needs_background": "light"
     },
     "output_type": "display_data"
    }
   ],
   "source": [
    "df_data = df_data[df_data['Total Funding']<200000000]\n",
    "print(df_data['Total Funding'].describe())\n",
    "df_data.boxplot(column=['Total Funding'])"
   ]
  },
  {
   "cell_type": "markdown",
   "execution_count": null,
   "metadata": {},
   "source": [
    "Here, we are considering the data distribution in a certain range. "
   ]
  },
  {
   "cell_type": "code",
   "execution_count": 55,
   "metadata": {},
   "outputs": [
    {
     "data": {
      "text/plain": [
       "<matplotlib.axes._subplots.AxesSubplot at 0x7f3d11779a90>"
      ]
     },
     "execution_count": 55,
     "metadata": {},
     "output_type": "execute_result"
    },
    {
     "data": {
      "image/png": "[encoded data removed]",
      "text/plain": [
       "<Figure size 432x288 with 1 Axes>"
      ]
     },
     "metadata": {
      "needs_background": "light"
     },
     "output_type": "display_data"
    }
   ],
   "source": [
    "df_data.plot.scatter(x='CB Rank',\n",
    "                      y='Total Funding')"
   ]
  },
  {
   "cell_type": "markdown",
   "execution_count": null,
   "metadata": {},
   "source": [
    "From the above scatter plot of attributes - Total Funding and CB Rank, we see, companies having higher CB rank, contain greater amount of total funding.  "
   ]
  },
  {
   "cell_type": "code",
   "execution_count": 56,
   "metadata": {},
   "outputs": [
    {
     "data": {
      "text/plain": [
       "<matplotlib.axes._subplots.AxesSubplot at 0x7f3d119745d0>"
      ]
     },
     "execution_count": 56,
     "metadata": {},
     "output_type": "execute_result"
    },
    {
     "data": {
      "image/png": "[encoded data removed]",
      "text/plain": [
       "<Figure size 432x288 with 1 Axes>"
      ]
     },
     "metadata": {
      "needs_background": "light"
     },
     "output_type": "display_data"
    }
   ],
   "source": [
    "df_data.plot.scatter(x='Total Funding',\n",
    "                      y='Founded')"
   ]
  },
  {
   "cell_type": "markdown",
   "execution_count": null,
   "metadata": {},
   "source": [
    "From the above scatter plot of attributes - Total Funding and Founded, we see, companies founded near 2005 to 2020 are provided with funding amount less than 75000000."
   ]
  },
  {
   "cell_type": "code",
   "execution_count": 57,
   "metadata": {},
   "outputs": [
    {
     "data": {
      "text/plain": [
       "<matplotlib.axes._subplots.AxesSubplot at 0x7f3d11a43b50>"
      ]
     },
     "execution_count": 57,
     "metadata": {},
     "output_type": "execute_result"
    },
    {
     "data": {
      "image/png": "[encoded data removed]",
      "text/plain": [
       "<Figure size 432x288 with 1 Axes>"
      ]
     },
     "metadata": {
      "needs_background": "light"
     },
     "output_type": "display_data"
    }
   ],
   "source": [
    "df_data.plot.scatter(x='CB Rank',\n",
    "                      y='Founded')"
   ]
  },
  {
   "cell_type": "markdown",
   "execution_count": null,
   "metadata": {},
   "source": [
    "From the above scatter plot, we observe that, companies founded in 2015 to 2020 are mostly ranked by CB."
   ]
  },
  {
   "cell_type": "code",
   "execution_count": 58,
   "metadata": {},
   "outputs": [
    {
     "data": {
      "text/html": [
       "<div>\n",
       "<style scoped>\n",
       "    .dataframe tbody tr th:only-of-type {\n",
       "        vertical-align: middle;\n",
       "    }\n",
       "\n",
       "    .dataframe tbody tr th {\n",
       "        vertical-align: top;\n",
       "    }\n",
       "\n",
       "    .dataframe thead th {\n",
       "        text-align: right;\n",
       "    }\n",
       "</style>\n",
       "<table border=\"1\" class=\"dataframe\">\n",
       "  <thead>\n",
       "    <tr style=\"text-align: right;\">\n",
       "      <th></th>\n",
       "      <th>CB Rank</th>\n",
       "      <th>Founded</th>\n",
       "      <th>Total Funding</th>\n",
       "    </tr>\n",
       "  </thead>\n",
       "  <tbody>\n",
       "    <tr>\n",
       "      <th>CB Rank</th>\n",
       "      <td>1.000000</td>\n",
       "      <td>0.142005</td>\n",
       "      <td>0.077042</td>\n",
       "    </tr>\n",
       "    <tr>\n",
       "      <th>Founded</th>\n",
       "      <td>0.142005</td>\n",
       "      <td>1.000000</td>\n",
       "      <td>-0.177867</td>\n",
       "    </tr>\n",
       "    <tr>\n",
       "      <th>Total Funding</th>\n",
       "      <td>0.077042</td>\n",
       "      <td>-0.177867</td>\n",
       "      <td>1.000000</td>\n",
       "    </tr>\n",
       "  </tbody>\n",
       "</table>\n",
       "</div>"
      ],
      "text/plain": [
       "                CB Rank   Founded  Total Funding\n",
       "CB Rank        1.000000  0.142005       0.077042\n",
       "Founded        0.142005  1.000000      -0.177867\n",
       "Total Funding  0.077042 -0.177867       1.000000"
      ]
     },
     "execution_count": 58,
     "metadata": {},
     "output_type": "execute_result"
    }
   ],
   "source": [
    "df_data.corr(method='pearson')"
   ]
  },
  {
   "cell_type": "markdown",
   "execution_count": null,
   "metadata": {},
   "source": [
    "As the correlation coeffecient of Founded and CB Rank is approximately 0.142 > 0; 'Founded' and 'CB Rank' are positively correlated ('Founded’s values increase as 'CB Rank’s). The higher the value, the stronger the correlation."
   ]
  },
  {
   "cell_type": "markdown",
   "execution_count": null,
   "metadata": {},
   "source": [
    "Similarly, as the correlation coeffecient of CB Rank and Total Funding is approximately 0.077 > 0; 'CB Rank' and 'Total Funding' are positively correlated ('CB Rank’s values increase as 'Total Funding’s). The higher the value, the stronger the correlation."
   ]
  },
  {
   "cell_type": "markdown",
   "execution_count": null,
   "metadata": {},
   "source": [
    "Similarly, as the correlation coeffecient of Founded and Total Funding is approximately - 0.1778 < 0; 'Founded' and 'Total Funding' are negatively correlated ('Founded’s values decreases as 'Total Funding’s). The lower the value, the stronger the correlation."
   ]
  },
  {
   "cell_type": "code",
   "execution_count": 59,
   "metadata": {},
   "outputs": [],
   "source": [
    "df_data.to_csv('refined_data.csv', index = False)"
   ]
  }
 ],
 "metadata": {
  "kernelspec": {
   "display_name": "Python 3",
   "language": "python",
   "name": "python3"
  },
  "language_info": {
   "codemirror_mode": {
    "name": "ipython",
    "version": 3
   },
   "file_extension": ".py",
   "mimetype": "text/x-python",
   "name": "python",
   "nbconvert_exporter": "python",
   "pygments_lexer": "ipython3",
   "version": "3.7.6"
  }
 },
 "nbformat": 4,
 "nbformat_minor": 4
}
